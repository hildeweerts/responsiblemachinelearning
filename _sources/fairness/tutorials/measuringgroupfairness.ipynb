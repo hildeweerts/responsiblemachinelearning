{
 "cells": [
  {
   "cell_type": "markdown",
   "metadata": {},
   "source": [
    "(tutorial_measuringfairness)=\n",
    "\n",
    "# Measuring Group Fairness\n",
    "\n",
    "In this tutorial we will explore how we can measure notions of group fairness via a disaggregated analysis in Python using Fairlearn. As a running example, we consider pre-trial risk assessment scores produced by the COMPAS recidivism risk assessment tool.\n",
    "\n",
    "---\n",
    "**Learning Objectives**. After this tutorial you are able to:\n",
    "* perform a disaggregated analysis in Python using Fairlearn;\n",
    "* describe the relevance of reliability of estimates and validity of measurements in relation to quantitative fairness assessments;\n",
    "* explain the incompatibility between three group fairness criteria;\n",
    "---\n",
    "\n",
    "## COMPAS: A Pre-Trial Risk Assessment Tool\n",
    "COMPAS is a decision support tool used by courts in the United States to assess the likelihood of a defendant becoming a recidivist; i.e., relapses into criminal behavior. In particular, COMPAS risk scores are used in **pre-trial risk assessment**.\n",
    "\n",
    "```{admonition} What is pre-trial risk assessment in the US judicial system?\n",
    "After somebody has been arrested, it will take some time before they go to trial. The primary goal of pre-trial risk assessment is to determine the likelihood that the defendant will re-appear in court at their trial. Based on the assessment, a judge decides whether a defendent will be detained or released while awaiting trial. In case of release, the judge also decides whether bail is set and for which amount. Bail usually takes the form of either a cash payment or a bond. If the defendant can't afford to pay the bail amount in cash - which can be as high as \\$50,000 - they can contract a bondsmen. For a fee, typically around 10\\% of the bail, the bondsmen will post the defendant's bail.\n",
    "\n",
    "If the defendant can afford neither bail nor a bail bond, they have to prepare for their trial while in jail. [This](https://eu.clarionledger.com/story/opinion/columnists/2020/05/28/cant-afford-bail-woman-describes-experience-mississippi-bail-fund-collective/5257295002/) [is](https://medium.com/dose/bail-is-so-expensive-it-forces-innocent-people-to-plead-guilty-72a3097a2ebe) [difficult](https://facctconference.org/2018/livestream_vh210.html). The time between getting arrested and a bail hearing can take days, weeks, months, or even years. In some cases, the decision is between pleading guilty and going home. Consequently, people who cannot afford bail are much more likely to plead guilty to a crime they did not commit. Clearly, a (false) positive decision of the judge will have a big impact on the defendant's prospects. \n",
    "\n",
    "On the other extreme, false negatives could mean that dangerous individuals are released into society and do not show up for their trial.\n",
    "```\n",
    "\n",
    "Proponents of risk assessment tools argue that they can lead to more efficient, less biased, and more consistent decisions compared to human decision makers. However, concerns have been raised that the scores can replicate historical inequalities.\n",
    "\n",
    "### Propublica's Analysis of COMPAS\n",
    "In May 2016, investigative journalists of Propublica released a critical analysis of COMPAS. **Propublica's assessment: COMPAS wrongly labeled black defendants as future criminals at almost twice the rate as white defendants**, while white defendants were mislabeled as low risk more often than black defendants ([Propublica, 2016](https://www.propublica.org/article/machine-bias-risk-assessments-in-criminal-sentencing)). \n",
    "\n",
    "The analysis of COMPAS is likely one of the most well-known examples of algorithmic bias assessments. Within the machine learning research community, the incident sparked a renewed interest in fairness of machine learning models."
   ]
  },
  {
   "cell_type": "code",
   "execution_count": 5,
   "metadata": {
    "tags": []
   },
   "outputs": [
    {
     "name": "stdout",
     "output_type": "stream",
     "text": [
      "pandas        Tested version: 2.0.3   Your version: 2.0.3\n",
      "numpy         Tested version: 1.24.4  Your version: 1.21.5\n",
      "matplotlib    Tested version: 3.8.3   Your version: 3.5.3\n",
      "scikit-learn  Tested version: 1.2.1   Your version: 1.3.2\n",
      "fairlearn     Tested version: 0.10.0  Your version: 0.10.0\n"
     ]
    }
   ],
   "source": [
    "# data wrangling\n",
    "import pandas as pd\n",
    "import numpy as np\n",
    "\n",
    "# visualization\n",
    "import matplotlib\n",
    "\n",
    "# other\n",
    "import sklearn\n",
    "import fairlearn\n",
    "\n",
    "# this tutorial has been tested with the following versions\n",
    "print(\"pandas        Tested version: 2.0.3   Your version: %s\" % pd.__version__)\n",
    "print(\"numpy         Tested version: 1.24.4  Your version: %s\" % np.__version__)\n",
    "print(\"matplotlib    Tested version: 3.8.3   Your version: %s\" % matplotlib.__version__)\n",
    "print(\"scikit-learn  Tested version: 1.2.1   Your version: %s\" % sklearn.__version__)\n",
    "print(\"fairlearn     Tested version: 0.10.0  Your version: %s\" % fairlearn.__version__)"
   ]
  },
  {
   "cell_type": "code",
   "execution_count": 6,
   "metadata": {},
   "outputs": [],
   "source": [
    "# import functionality\n",
    "import matplotlib.pyplot as plt\n",
    "from fairlearn.metrics import MetricFrame, make_derived_metric\n",
    "from sklearn.metrics import precision_score\n",
    "from fairlearn.metrics import selection_rate, count, false_positive_rate, false_negative_rate\n",
    "from fairlearn.metrics import demographic_parity_difference, equalized_odds_difference\n",
    "from sklearn.calibration import CalibrationDisplay"
   ]
  },
  {
   "cell_type": "markdown",
   "metadata": {},
   "source": [
    "## Load Dataset\n",
    "For this tutorial we will use the [data](https://github.com/propublica/compas-analysis/blob/master/compas-scores-two-years.csv) that was collected by ProPublica through public records requests in Broward County, Florida. We will pre-process the data similar to Propublica's analysis."
   ]
  },
  {
   "cell_type": "code",
   "execution_count": 7,
   "metadata": {},
   "outputs": [
    {
     "data": {
      "text/html": [
       "<div>\n",
       "<style scoped>\n",
       "    .dataframe tbody tr th:only-of-type {\n",
       "        vertical-align: middle;\n",
       "    }\n",
       "\n",
       "    .dataframe tbody tr th {\n",
       "        vertical-align: top;\n",
       "    }\n",
       "\n",
       "    .dataframe thead th {\n",
       "        text-align: right;\n",
       "    }\n",
       "</style>\n",
       "<table border=\"1\" class=\"dataframe\">\n",
       "  <thead>\n",
       "    <tr style=\"text-align: right;\">\n",
       "      <th></th>\n",
       "      <th>sex</th>\n",
       "      <th>age</th>\n",
       "      <th>race</th>\n",
       "      <th>priors_count</th>\n",
       "      <th>decile_score</th>\n",
       "      <th>two_year_recid</th>\n",
       "      <th>decile_score_cutoff</th>\n",
       "    </tr>\n",
       "  </thead>\n",
       "  <tbody>\n",
       "    <tr>\n",
       "      <th>0</th>\n",
       "      <td>Male</td>\n",
       "      <td>69</td>\n",
       "      <td>Other</td>\n",
       "      <td>0</td>\n",
       "      <td>1</td>\n",
       "      <td>0</td>\n",
       "      <td>False</td>\n",
       "    </tr>\n",
       "    <tr>\n",
       "      <th>1</th>\n",
       "      <td>Male</td>\n",
       "      <td>34</td>\n",
       "      <td>African-American</td>\n",
       "      <td>0</td>\n",
       "      <td>3</td>\n",
       "      <td>1</td>\n",
       "      <td>False</td>\n",
       "    </tr>\n",
       "    <tr>\n",
       "      <th>2</th>\n",
       "      <td>Male</td>\n",
       "      <td>24</td>\n",
       "      <td>African-American</td>\n",
       "      <td>4</td>\n",
       "      <td>4</td>\n",
       "      <td>1</td>\n",
       "      <td>False</td>\n",
       "    </tr>\n",
       "    <tr>\n",
       "      <th>5</th>\n",
       "      <td>Male</td>\n",
       "      <td>44</td>\n",
       "      <td>Other</td>\n",
       "      <td>0</td>\n",
       "      <td>1</td>\n",
       "      <td>0</td>\n",
       "      <td>False</td>\n",
       "    </tr>\n",
       "    <tr>\n",
       "      <th>6</th>\n",
       "      <td>Male</td>\n",
       "      <td>41</td>\n",
       "      <td>Caucasian</td>\n",
       "      <td>14</td>\n",
       "      <td>6</td>\n",
       "      <td>1</td>\n",
       "      <td>True</td>\n",
       "    </tr>\n",
       "  </tbody>\n",
       "</table>\n",
       "</div>"
      ],
      "text/plain": [
       "    sex  age              race  priors_count  decile_score  two_year_recid  \\\n",
       "0  Male   69             Other             0             1               0   \n",
       "1  Male   34  African-American             0             3               1   \n",
       "2  Male   24  African-American             4             4               1   \n",
       "5  Male   44             Other             0             1               0   \n",
       "6  Male   41         Caucasian            14             6               1   \n",
       "\n",
       "   decile_score_cutoff  \n",
       "0                False  \n",
       "1                False  \n",
       "2                False  \n",
       "5                False  \n",
       "6                 True  "
      ]
     },
     "execution_count": 7,
     "metadata": {},
     "output_type": "execute_result"
    }
   ],
   "source": [
    "# load data\n",
    "data = pd.read_csv('compas-scores-two-years.csv')\n",
    "# filter similar to propublica\n",
    "data = data[(data['days_b_screening_arrest'] <= 30) &\n",
    "                (data['days_b_screening_arrest'] >= -30) &\n",
    "                (data['is_recid'] != -1) &\n",
    "                (data['c_charge_degree'] != \"O\") &\n",
    "                (data['score_text'] != \"N/A\")]\n",
    "# select columns\n",
    "data = data[['sex', 'age', 'race', 'priors_count', 'decile_score', 'two_year_recid']]\n",
    "# cut-off score 5 \n",
    "data['decile_score_cutoff']= data['decile_score'] >= 5\n",
    "# inspect\n",
    "data.head()"
   ]
  },
  {
   "cell_type": "markdown",
   "metadata": {},
   "source": [
    "The data now contains the following features:\n",
    "\n",
    "* *sex*. The defendant's sex, measured as US census sex categories (either *Male* or *Female*).\n",
    "* *race*. The defendant's race, measured as US census race categories.\n",
    "* *age*. The defendant's age on the COMPAS screening date. \n",
    "* *decile_score*. The COMPAS score expressed in deciles of the raw risk score. The deciles are obtained by ranking scale scores of a normative group and dividing these scores into ten equal-sized groups. Normative groups are gender-specific. For example, females are scored against a female normative group. According to Northpointe's documentation, a decile score of 1-4 is low, 5-7 medium, and 8-10 high.\n",
    "* *priors_count*. The number of prior charges up to but not including the current offense.\n",
    "* *two_year_recid*. Recidivism, defined as any offense that occurred within two years of the COMPAS screening date.\n",
    "* *decile_score_cutoff*. The binarized COMPAS score based on a cut-off score of 5.\n",
    "\n",
    "--- "
   ]
  },
  {
   "cell_type": "markdown",
   "metadata": {},
   "source": [
    "## Demographic Parity\n",
    "In a classification scenario, the **selection rate** is the proportion of positive predictions. If selection rates differ across groups, there is a risk of **allocation harm**: some groups are allocated more (or less) resources than others. For example, in a hiring scenario, the selection rate of male applicants may be higher than that of female or non-binary applicants.\n",
    "\n",
    "The risk of allocation harm is particularly prevalent in cases where disparities exist in the observed data, which are replicated by the machine learning model.\n",
    "\n",
    "```{admonition} Demographic parity\n",
    "Demographic Parity holds if, for all values of y and a, \n",
    "\n",
    "$$P(\\hat{Y} = y | A = a) = P(\\hat{Y} = y | A = a')$$\n",
    "\n",
    "where $\\hat{Y}$ is the output of our model and $A$ the set of sensitive characteristics.\n",
    "```\n",
    "\n",
    "In other words, demographic parity requires the output of the model to be independent of the sensitive characteristic. We can quantify the extent to which demographic parity is violated through a fairness metric, such as the maximum _demographic parity difference_ (i.e., the maximum difference in selection rates beteen groups).\n",
    "\n",
    "### What normative or empirical assumptions underly demographic parity as a fairness constraint?\n",
    "When we consider a violation of demographic parity to be undesirable, this points to two possible assumptions:\n",
    "1. We assume that *everybody **is** equal*. For example, we may assume that qualifications for a particular job are independent of somebody's gender - even if the data suggests otherwise. In particular, we may believe that social biases in historical hiring decisions have skewed base rates in the data set, resulting in measurement bias.\n",
    "2. We assume that *everybody **should be** equal*. For instance, we may assume that the job qualification are distributed unequally across genders in current society, but this is due to factors outside of the individual's control, such as lacking opportunities due to social gender norms.\n",
    "\n",
    "When predictive models are used to allocate resources, disparities in selection rates can be an important measure of potential fairness-related harm. However, treating demographic parity as an optimization objective can have unintended and sometimes undesirable side effects. Enforcing demographic parity might lead to differences in treatment across sensitive groups, causing otherwise similar people to be treated differently. For example, if base rates differ between racial groups, a perfectly accurate model cannot satisfy demographic parity. As a result, we must misclassify some instances for selection rates to be equal. However, demographic parity does not put any constraints on _which_ samples are to be classified differently: as long as you pick the same proportion for each group, demographic parity holds. For example, to fulfill demographic parity, we could simply randomly select additional instances from the group with the lower selection rate -- irrespective of their personal characteristics and scores.\n",
    "\n",
    "--- \n",
    "\n",
    "### Measuring Demographic Parity using Fairlearn\n",
    "\n",
    "We can use Fairlearn's `MetricFrame` class to investigate the selection rate across groups. \n",
    "\n",
    "The class has the following basic parameters: \n",
    "* `metrics`: a callable metric (e.g., `selection_rate`, or `false_positive_rate`) or a dictionary of callables.\n",
    "* `y_true` : the ground-truth labels.\n",
    "* `y_pred` : the predicted labels.\n",
    "* `sensitive_features`: the sensitive features. Note that there can be multiple sensitive features.\n",
    "* `control_features`: the control features. Control features are features for which you'd like to investigate disparaties separately (i.e., \"control for\"). For example, you expect the feature can \"explain\" some of the observed disparities between sensitive groups.\n",
    "\n",
    "At initialization, the `MetricFrame` object computes the input metric(s) for each group defined by sensitive features.\n",
    "* `MetricFrame.bygroup`: a pandas dataframe with the metric value for each group.\n",
    "* `MetricFrame.overall`: a float (or dataframe, if `control_features` are used) with the metric value as computed over the entire dataset.\n",
    "\n",
    "We can also summarize the results of the `MetricFrame` using one of the following methods:\n",
    "* `MetricFrame.difference()` : return the maximum absolute difference between groups for each metric.\n",
    "* `MetricFrame.ratio()` : return the minimum ratio between groups for each metric.\n",
    "* `MetricFrame.group_max()` : return the maximum value of the metric over the sensitive features.\n",
    "* `MetricFrame.group_min()` : return the minimum value of the metric over the sensitive features.\n",
    "\n",
    "The `MetricFrame` object is useful to do a thorough investigation of disparities. When we have (already) identified a definition of fairness that is relevant in our scenario, we may want to optimize for it during model selection. For this, it can be useful to have a single value that summarizes the disparity in a fairness metric.\n",
    "\n",
    "We can directly summarize the extent to which demographic parity is violated using `demographic_parity_difference()` metric. This metric can also be used in, for example, a grid search. All fairness metrics in Fairlearn have the following arguments:\n",
    "* `y_true`\n",
    "* `y_pred`\n",
    "* `sensitive_features`\n",
    "* `method`: the method that is used to summarize the difference or ratio across groups. \n",
    "    * `'between_groups'`: aggregate the difference as the max difference between any two groups\n",
    "    * `'to_overall'`: aggregate the difference as the max difference between any group and the metric value as computed over the entire dataset.\n",
    "    \n",
    "There are several predefined metrics, such as `fairlearn.metrics.demographic_parity_difference()` and `fairlearn.metrics.equalized_odds_ratio()`. It is also possible to define your own fairness metric, based on a metric function (e.g., a scikit-learn performance metric such as `sklearn.metrics.precision_score`) using `fairlearn.metrics.make_derived_metric()`.\n",
    "\n",
    "---\n",
    "\n",
    "In the pre-trial risk assessment scenario, unequal selection rates mean that we predict, on average, recidivism more often for one group than the other. Let's investigate the selection rate of COMPAS."
   ]
  },
  {
   "cell_type": "code",
   "execution_count": 9,
   "metadata": {},
   "outputs": [
    {
     "name": "stdout",
     "output_type": "stream",
     "text": [
      "                  selection rate (COMPAS)\n",
      "race                                     \n",
      "African-American                 0.576063\n",
      "Asian                            0.225806\n",
      "Caucasian                        0.330956\n",
      "Hispanic                         0.277014\n",
      "Native American                  0.727273\n",
      "Other                            0.204082\n",
      "Overall SR: 0.45\n",
      "demographic parity diff: 0.52\n",
      "demographic parity diff: 0.52\n"
     ]
    }
   ],
   "source": [
    "# compute metrics by group\n",
    "mf = MetricFrame(metrics={'selection rate (COMPAS)' : selection_rate}, \n",
    "                 y_true=data['two_year_recid'], \n",
    "                 y_pred=data['decile_score_cutoff'], \n",
    "                 sensitive_features=data['race'])\n",
    "# print results\n",
    "print(mf.by_group)\n",
    "print(\"Overall SR: %.2f\" % mf.overall[0])\n",
    "\n",
    "# summarize demographic parity as the max difference between groups\n",
    "print(\"demographic parity diff: %.2f\" % mf.difference(method='between_groups')[0])\n",
    "\n",
    "# summarize demographic parity using the metric (this gives the exact same result as mf.difference())\n",
    "dpd = demographic_parity_difference(y_true=data['two_year_recid'], \n",
    "                                    y_pred=data['decile_score_cutoff'], \n",
    "                                    sensitive_features=data['race'], \n",
    "                                    method='between_groups') # summarize as the max difference between any of the groups\n",
    "print(\"demographic parity diff: %.2f\" % dpd)"
   ]
  },
  {
   "cell_type": "markdown",
   "metadata": {},
   "source": [
    "These results suggest that COMPAS' selection rate is substantially higher for _Native American_ and _African-American_ compared to other racial categories. The largest difference in selection rates is between _Native American_ and _Other_. However, before we jump to conclusions, we need to consider the reliability of these estimates."
   ]
  },
  {
   "cell_type": "markdown",
   "metadata": {},
   "source": [
    "## The Problem of Small Sample Sizes\n",
    "\n",
    "Group fairness metrics heavily rely on the estimation of group statistics such as the selection rate or the false positive rate. In many cases, the number of individuals in the data that belong to a particular subgroup can be very small. With small sample sizes, statistical estimates can become very uncertain. In those cases, it is impossible to even accurately *assess* the risk of fairness-related harm - let alone mitigate it. The problem of small sample sizes is further exacerbated when we consider intersectional subgroups, such as Black women. This is particularly problematic, as harms often accumulate at the intersection of marginalized groups. \n",
    "\n",
    "Lets consider the sample sizes for racial categories in the COMPAS data set."
   ]
  },
  {
   "cell_type": "code",
   "execution_count": 6,
   "metadata": {},
   "outputs": [
    {
     "data": {
      "text/plain": [
       "race\n",
       "African-American    3175\n",
       "Caucasian           2103\n",
       "Hispanic             509\n",
       "Other                343\n",
       "Asian                 31\n",
       "Native American       11\n",
       "Name: count, dtype: int64"
      ]
     },
     "metadata": {},
     "output_type": "display_data"
    },
    {
     "data": {
      "text/html": [
       "<div>\n",
       "<style scoped>\n",
       "    .dataframe tbody tr th:only-of-type {\n",
       "        vertical-align: middle;\n",
       "    }\n",
       "\n",
       "    .dataframe tbody tr th {\n",
       "        vertical-align: top;\n",
       "    }\n",
       "\n",
       "    .dataframe thead th {\n",
       "        text-align: right;\n",
       "    }\n",
       "</style>\n",
       "<table border=\"1\" class=\"dataframe\">\n",
       "  <thead>\n",
       "    <tr style=\"text-align: right;\">\n",
       "      <th></th>\n",
       "      <th>count</th>\n",
       "    </tr>\n",
       "    <tr>\n",
       "      <th>race</th>\n",
       "      <th></th>\n",
       "    </tr>\n",
       "  </thead>\n",
       "  <tbody>\n",
       "    <tr>\n",
       "      <th>African-American</th>\n",
       "      <td>3175</td>\n",
       "    </tr>\n",
       "    <tr>\n",
       "      <th>Asian</th>\n",
       "      <td>31</td>\n",
       "    </tr>\n",
       "    <tr>\n",
       "      <th>Caucasian</th>\n",
       "      <td>2103</td>\n",
       "    </tr>\n",
       "    <tr>\n",
       "      <th>Hispanic</th>\n",
       "      <td>509</td>\n",
       "    </tr>\n",
       "    <tr>\n",
       "      <th>Native American</th>\n",
       "      <td>11</td>\n",
       "    </tr>\n",
       "    <tr>\n",
       "      <th>Other</th>\n",
       "      <td>343</td>\n",
       "    </tr>\n",
       "  </tbody>\n",
       "</table>\n",
       "</div>"
      ],
      "text/plain": [
       "                  count\n",
       "race                   \n",
       "African-American   3175\n",
       "Asian                31\n",
       "Caucasian          2103\n",
       "Hispanic            509\n",
       "Native American      11\n",
       "Other               343"
      ]
     },
     "metadata": {},
     "output_type": "display_data"
    }
   ],
   "source": [
    "# number of instances in each racial category\n",
    "display(data['race'].value_counts())\n",
    "\n",
    "# we can also include count as a metric in MetricFrame\n",
    "mf = MetricFrame(metrics={'count' : count}, \n",
    "                 y_true=data['two_year_recid'], \n",
    "                 y_pred=data['decile_score_cutoff'], \n",
    "                 sensitive_features=data['race'])\n",
    "display(mf.by_group)"
   ]
  },
  {
   "cell_type": "markdown",
   "metadata": {},
   "source": [
    "Clearly, the large majority of instances are _African-American_ or _Caucasian_, while only 11 and 31 instances are classified as _Native American_ and _Asian_ respectively.\n",
    "\n",
    "To get a better idea of how small sample sizes affect the uncertainty of our estimates, we can use **bootstrapping** to derive confidence intervals.\n",
    "\n",
    "```{admonition} Bootstrap Confidence Intervals\n",
    "\n",
    "Bootstrap resampling is a non-parametric approach to derive a confidence interval (CI) for an estimate of a statistic, such as the mean of a variable in a particular population. In the context of fairness assessments, confidence intervals give us an indication of the precision of our estimates: if we were to repeat our fairness assessment 100 times, gathering 100 samples (i.e., datasets) of the population (e.g., defendants in Florida) and compute a 95% CI for the metric under investigation (e.g., selection rate), 95 of the confidence intervals would capture the metric value (i.e., the true selection rate) in the population.\n",
    "\n",
    "Bootstrap confidence intervals are computed based on resampling. First, we create a number of bootstrap samples. Each bootstrap sample involves (a) creating a new dataset of equal size to the original, via random sampling with replacement, and (b) evaluating the metric of interest on this dataset. Second, we compute the distribution of the set of bootstrap samples and estimate confidence intervals based on this distribution function. For example, we may compute the 0.05 and 0.95 quantiles of selection rates computed over the bootstrap samples to derive a 90% CI of the selection rate. \n",
    "\n",
    "Note that bootstrapping assumes the data sample is representative of the population. If we're interested in the selection rate of African-American defendants in Florida, but defendants in Broward County are not representative of defendants in Florida (e.g., in terms of demographic composition or the distribution of the types of crime), we cannot make any claims regarding our confidence that the CI contains the true selection rate of the population, i.e. defendants in Florida.\n",
    "\n",
    "```\n",
    "\n",
    "### Computing Bootstrap Confidence Intervals with `MetricFrame`\n",
    "\n",
    "`MetricFrame` has several parameters that control the bootstrapping procedure: \n",
    "\n",
    "* `n_boot` : the number of bootstrap samples;\n",
    "* `ci_quantiles` : the quantiles we wish to compute;\n",
    "* `random_state` : a random seed, which can be used to control the randomness involved in bootstrapping for reproducibility purposes;\n",
    "\n",
    "Bootstrapping in Fairlearn provides us with confidence intervals for the estimates in our disaggregated analysis (e.g., the selection rate for a particular sensitive group) as well as fairness metrics (e.g., the maximum difference in selection rates across groups).\n",
    "\n",
    "Note that **the confidence intervals produced by `MetricFrame` are not a replacement for statistical tests**. That is, we cannot simply compare the CIs across groups and conclude that the proportions are equal or unequal. Instead, we must confine ourselves to considering the size of the confidence intervals and whether they are indicating that we need to gather more data."
   ]
  },
  {
   "cell_type": "code",
   "execution_count": 7,
   "metadata": {},
   "outputs": [
    {
     "data": {
      "text/html": [
       "<div>\n",
       "<style scoped>\n",
       "    .dataframe tbody tr th:only-of-type {\n",
       "        vertical-align: middle;\n",
       "    }\n",
       "\n",
       "    .dataframe tbody tr th {\n",
       "        vertical-align: top;\n",
       "    }\n",
       "\n",
       "    .dataframe thead tr th {\n",
       "        text-align: left;\n",
       "    }\n",
       "\n",
       "    .dataframe thead tr:last-of-type th {\n",
       "        text-align: right;\n",
       "    }\n",
       "</style>\n",
       "<table border=\"1\" class=\"dataframe\">\n",
       "  <thead>\n",
       "    <tr>\n",
       "      <th></th>\n",
       "      <th>0.025</th>\n",
       "      <th>0.975</th>\n",
       "    </tr>\n",
       "    <tr>\n",
       "      <th></th>\n",
       "      <th>selection rate (COMPAS)</th>\n",
       "      <th>selection rate (COMPAS)</th>\n",
       "    </tr>\n",
       "    <tr>\n",
       "      <th>race</th>\n",
       "      <th></th>\n",
       "      <th></th>\n",
       "    </tr>\n",
       "  </thead>\n",
       "  <tbody>\n",
       "    <tr>\n",
       "      <th>African-American</th>\n",
       "      <td>0.560148</td>\n",
       "      <td>0.590021</td>\n",
       "    </tr>\n",
       "    <tr>\n",
       "      <th>Asian</th>\n",
       "      <td>0.082296</td>\n",
       "      <td>0.363561</td>\n",
       "    </tr>\n",
       "    <tr>\n",
       "      <th>Caucasian</th>\n",
       "      <td>0.315466</td>\n",
       "      <td>0.350783</td>\n",
       "    </tr>\n",
       "    <tr>\n",
       "      <th>Hispanic</th>\n",
       "      <td>0.242634</td>\n",
       "      <td>0.314458</td>\n",
       "    </tr>\n",
       "    <tr>\n",
       "      <th>Native American</th>\n",
       "      <td>0.492424</td>\n",
       "      <td>1.000000</td>\n",
       "    </tr>\n",
       "    <tr>\n",
       "      <th>Other</th>\n",
       "      <td>0.169057</td>\n",
       "      <td>0.250043</td>\n",
       "    </tr>\n",
       "  </tbody>\n",
       "</table>\n",
       "</div>"
      ],
      "text/plain": [
       "                                   0.025                   0.975\n",
       "                 selection rate (COMPAS) selection rate (COMPAS)\n",
       "race                                                            \n",
       "African-American                0.560148                0.590021\n",
       "Asian                           0.082296                0.363561\n",
       "Caucasian                       0.315466                0.350783\n",
       "Hispanic                        0.242634                0.314458\n",
       "Native American                 0.492424                1.000000\n",
       "Other                           0.169057                0.250043"
      ]
     },
     "metadata": {},
     "output_type": "display_data"
    },
    {
     "data": {
      "image/png": "[encoded data removed]",
      "text/plain": [
       "<Figure size 432x288 with 1 Axes>"
      ]
     },
     "metadata": {
      "needs_background": "light"
     },
     "output_type": "display_data"
    },
    {
     "name": "stdout",
     "output_type": "stream",
     "text": [
      "demographic parity diff: 0.52 (95 CI [0.38, 0.82])\n"
     ]
    }
   ],
   "source": [
    "# compute metrics by group\n",
    "mf = MetricFrame(metrics={'selection rate (COMPAS)' : selection_rate}, \n",
    "                 y_true=data['two_year_recid'], \n",
    "                 y_pred=data['decile_score_cutoff'], \n",
    "                 sensitive_features=data['race'],\n",
    "                 n_boot=100,\n",
    "                 ci_quantiles=[0.025, 0.975], # for a 95% CI, we need the 0.025 and 0.975 quantiles\n",
    "                 random_state=42)\n",
    "\n",
    "# display quantiles\n",
    "errors = pd.concat(mf.by_group_ci, keys=mf.ci_quantiles, axis=1)\n",
    "display(errors)\n",
    "\n",
    "# plot errorbars\n",
    "# matplotlib requires errorbars to be supplied as the size of the errorbar\n",
    "errors['size min'] = mf.by_group - errors.loc[:,0.025]\n",
    "errors['size max'] = errors.loc[:,0.975] - mf.by_group\n",
    "mf.by_group.plot(kind='bar', yerr=[errors['size min'], errors['size max']])\n",
    "plt.title(\"COMPAS selection rates (95% CI)\")\n",
    "plt.show()\n",
    "\n",
    "# print confidence interval of maximum demographic parity difference\n",
    "dpd = mf.difference()\n",
    "dpd_ci = mf.difference_ci()\n",
    "print(\"demographic parity diff: %.2f (95 CI [%.2f, %.2f])\" % (dpd.iloc[0], dpd_ci[0].iloc[0], dpd_ci[1].iloc[0]))"
   ]
  },
  {
   "cell_type": "markdown",
   "metadata": {},
   "source": [
    "Clearly, the uncertainty of our estimates differs quite a lot across groups. As expected, estimates for _Asian_ and _Native American_ defendants are extremely unreliable. The small sample sizes also affect our confidence in the estimate of the maximum demographic parity difference: the 95% CI ranges from 0.38 to 0.82.\n",
    "\n",
    "#### What to do about small sample sizes? \n",
    "Unfortunately, there is no simple solution. The most obvious action is, of course, to collect more data. In practice, however, this may not always be feasible. Another option is to merge some sensitive groups into an overarching group. While merging groups reduces uncertainty of the estimate, it can negatively affect the validity of the fairness assessment - especially when sensitive groups are affected differently by discriminatory patterns in society. For example, in the case of COMPAS, collapsing _Asian_ and _Native American_ into a single category is only sensible if we assume that these groups have similar characteristics, particularly in relation to the types of discrimination might face in society. A third option is to apply more sophisticated statistical techniques to derive more precise estimates, but this is outside of the scope of this tutorial.\n",
    "\n",
    "\n",
    "```{admonition} Construct Validity of Sensitive Characteristics\n",
    "\n",
    "So far, we have mostly considered the confidence in our estimates. Another important factor is the validity of our measurements. **Construct validity** is a concept from the social sciences that refers to *the extent to which a measurement actually measures the phenomenon we are trying to measure*. Many sensitive characteristics, such as race and gender, are **social constructs**, which are multidimensional and dynamic. As such, there are many different ways to operationalize the construct 'race' as a feature in your data set. For example, dimensions of race include self-reported racial identity, observed appearance-based race, observed interaction-based race, etc. This is important, because [how you measure sensitive group membership changes the conclusions you can draw](https://arxiv.org/abs/1912.03593). The racial categories in the COMPAS dataset are based on those that are used by Broward County Sheriff’s Office. This is not necessarily a valid measurement of race. For example, Hispanic is redefined as a racial category (rather than an ethnicity). Additionally, each individual is labeled with just a single category, whereas some people may identify with multiple races. It is also unclear whether the measurements are the result of self-identification or observed by police officers.\n",
    "\n",
    "```\n",
    "For the sake of simplicity, in the remainder of this tutorial we follow Propublica's analysis and focus on the two largest groups: _African-American_ and _Caucasian_."
   ]
  },
  {
   "cell_type": "code",
   "execution_count": 8,
   "metadata": {},
   "outputs": [],
   "source": [
    "# select two largest groups\n",
    "data = data[(data['race'] == 'African-American') | (data['race'] == 'Caucasian')]"
   ]
  },
  {
   "cell_type": "markdown",
   "metadata": {},
   "source": [
    "At this point we may wonder whether disparities are introduced by COMPAS, or whether can we see a similar pattern in the original data. The selection rate observed in the data is also referred to as **base rate**."
   ]
  },
  {
   "cell_type": "code",
   "execution_count": 9,
   "metadata": {},
   "outputs": [
    {
     "data": {
      "text/html": [
       "<div>\n",
       "<style scoped>\n",
       "    .dataframe tbody tr th:only-of-type {\n",
       "        vertical-align: middle;\n",
       "    }\n",
       "\n",
       "    .dataframe tbody tr th {\n",
       "        vertical-align: top;\n",
       "    }\n",
       "\n",
       "    .dataframe thead th {\n",
       "        text-align: right;\n",
       "    }\n",
       "</style>\n",
       "<table border=\"1\" class=\"dataframe\">\n",
       "  <thead>\n",
       "    <tr style=\"text-align: right;\">\n",
       "      <th></th>\n",
       "      <th>selection rate (COMPAS)</th>\n",
       "    </tr>\n",
       "    <tr>\n",
       "      <th>race</th>\n",
       "      <th></th>\n",
       "    </tr>\n",
       "  </thead>\n",
       "  <tbody>\n",
       "    <tr>\n",
       "      <th>African-American</th>\n",
       "      <td>0.576063</td>\n",
       "    </tr>\n",
       "    <tr>\n",
       "      <th>Caucasian</th>\n",
       "      <td>0.330956</td>\n",
       "    </tr>\n",
       "  </tbody>\n",
       "</table>\n",
       "</div>"
      ],
      "text/plain": [
       "                  selection rate (COMPAS)\n",
       "race                                     \n",
       "African-American                 0.576063\n",
       "Caucasian                        0.330956"
      ]
     },
     "metadata": {},
     "output_type": "display_data"
    },
    {
     "name": "stdout",
     "output_type": "stream",
     "text": [
      "demographic parity diff: 0.25 (95 CI [0.22, 0.27])\n"
     ]
    },
    {
     "data": {
      "text/html": [
       "<div>\n",
       "<style scoped>\n",
       "    .dataframe tbody tr th:only-of-type {\n",
       "        vertical-align: middle;\n",
       "    }\n",
       "\n",
       "    .dataframe tbody tr th {\n",
       "        vertical-align: top;\n",
       "    }\n",
       "\n",
       "    .dataframe thead th {\n",
       "        text-align: right;\n",
       "    }\n",
       "</style>\n",
       "<table border=\"1\" class=\"dataframe\">\n",
       "  <thead>\n",
       "    <tr style=\"text-align: right;\">\n",
       "      <th></th>\n",
       "      <th>base rate</th>\n",
       "    </tr>\n",
       "    <tr>\n",
       "      <th>race</th>\n",
       "      <th></th>\n",
       "    </tr>\n",
       "  </thead>\n",
       "  <tbody>\n",
       "    <tr>\n",
       "      <th>African-American</th>\n",
       "      <td>0.52315</td>\n",
       "    </tr>\n",
       "    <tr>\n",
       "      <th>Caucasian</th>\n",
       "      <td>0.39087</td>\n",
       "    </tr>\n",
       "  </tbody>\n",
       "</table>\n",
       "</div>"
      ],
      "text/plain": [
       "                  base rate\n",
       "race                       \n",
       "African-American    0.52315\n",
       "Caucasian           0.39087"
      ]
     },
     "metadata": {},
     "output_type": "display_data"
    },
    {
     "name": "stdout",
     "output_type": "stream",
     "text": [
      "base rate diff: 0.13 (95 CI [0.11, 0.16])\n"
     ]
    }
   ],
   "source": [
    "# compute selection rate by group\n",
    "mf = MetricFrame(metrics={'selection rate (COMPAS)' : selection_rate}, \n",
    "                 y_true=data['two_year_recid'], \n",
    "                 y_pred=data['decile_score_cutoff'], \n",
    "                 sensitive_features=data['race'],\n",
    "                 n_boot=100,\n",
    "                 ci_quantiles=[0.025, 0.975], # for a 95% CI, we need the 0.025 and 0.975 quantiles\n",
    "                 random_state=42)\n",
    "display(mf.by_group)\n",
    "\n",
    "# print confidence interval of maximum demographic parity difference\n",
    "dpd = mf.difference()\n",
    "dpd_ci = mf.difference_ci()\n",
    "print(\"demographic parity diff: %.2f (95 CI [%.2f, %.2f])\" % (dpd.iloc[0], dpd_ci[0].iloc[0], dpd_ci[1].iloc[0]))\n",
    "\n",
    "# by choosing y_pred to be ground truth instead of predictions, we can easily compute the base rate in the data\n",
    "mf = MetricFrame(metrics={'base rate' : selection_rate}, \n",
    "                 y_true=data['two_year_recid'], \n",
    "                 y_pred=data['two_year_recid'], \n",
    "                 sensitive_features=data['race'],\n",
    "                 n_boot=100, \n",
    "                 ci_quantiles=[0.025, 0.975], # for a 95% CI, we need the 0.025 and 0.975 quantiles\n",
    "                 random_state=42,\n",
    "                )\n",
    "display(mf.by_group)\n",
    "\n",
    "# max base rate difference between groups\n",
    "bpd = mf.difference()\n",
    "bpd_ci = mf.difference_ci()\n",
    "print(\"base rate diff: %.2f (95 CI [%.2f, %.2f])\" % (bpd.iloc[0], bpd_ci[0].iloc[0], bpd_ci[1].iloc[0]))"
   ]
  },
  {
   "cell_type": "markdown",
   "metadata": {},
   "source": [
    "Although the difference is substantially smaller compared to COMPAS' selection rates, the base rates do differ across groups. There are several possible explantions of why these disparities arise in the data:\n",
    "\n",
    "* **The observed recidivism rates may not represent the actual recidivism rates.** Our target variable considers *re-arrests*, which is only a subset of the true cases of recidivism. It could be the case that the observed disparities reflect racist policing practices, rather than the true crime rate.\n",
    "* **Social deprivations may have caused the true underlying recidivism rate to be different across groups.** In other words, African-American defendants may truely be more likely to fall back into criminal behavior, due to dire personal circumstances.\n",
    "\n",
    "**Note that we cannot know which explanation holds from the data alone!** For this, we need a deeper understanding of the social context and data collection practices.\n",
    "\n",
    "```{admonition} Construct Validity of Target Variables\n",
    "\n",
    "Similar to sensitive characteristics, construct validity is important to consider when you define your target variable. In the context of fairness, [a lack of construct validity in the target variable can be a source of downstream model unfairness](https://arxiv.org/abs/1912.05511).\n",
    "\n",
    "* [Healthcare costs can be a biased measurement of healthcare needs](https://science.sciencemag.org/content/366/6464/447.abstract), as costs may reflect patients' economic circumstances rather than their health\n",
    "* Historical hiring decisions are not necessarily equivalent to historical employee quality, due to systemic and/or (unconscious) social biases in the hiring process.\n",
    "* Observed fraud is only a subsample of actual fraud. If potential cases of fraud are not selected randomly, there is a risk of selection bias. If the selection biass is associated with sensitive group membership, some groups may be overscrutinized causing the observed fraud rate to be inflated.\n",
    "\n",
    "```"
   ]
  },
  {
   "cell_type": "markdown",
   "metadata": {},
   "source": [
    "## Equalized Odds\n",
    "\n",
    "If error rates differ across groups, there is a risk of **allocation harm**: the algorithm does not provide equal opportunities to all. For example, in a hiring scenario, we may mistakingly reject strong female candidates more often than strong male candidates. Additionally, there is the risk of a **quality-of-service harm**: even if the target variable does not relate to the distribution of a particular resource, it makes more mistakes for some groups than for others. For example, a facial recognition system may fail disproportionately for some groups.\n",
    "\n",
    "The risk of quality-of-service harm is particularly prevalent if the relationship between the features and target variable is different across groups. The risk is further amplified if less data is available for some groups.  For example, strong candidates for a data science job may have either a quantitative social science background or a computer science background. Now imagine that in the past, hiring managers have mostly hired applicants with a computer science degree, but hardly any social scientists. As a result, a machine learning model could mistakingly penalize people who do not have a computer science degree. If relatively more women have a social science background, the error rates will be higher for women compared to men, resulting in a quality-of-service harm.\n",
    "\n",
    "```{admonition} Equalized Odds\n",
    "Equalized Odds holds if, for all values of $y$ and $a$, \n",
    "\n",
    "$$P(\\hat{Y} = y | A = a, Y = y) = P(\\hat{Y} = y | A = a', Y = y)$$ \n",
    "\n",
    "where $\\hat{Y}$ is the output of our model, $Y$ the observed outcome, and $A$ the set of sensitive characteristics.\n",
    "\n",
    "In other words, the **false positive rate** and **false negative rate** should be equal across groups. \n",
    "```\n",
    "\n",
    "### What normative or empirical assumptions underly equalized odds as a fairness constraint?\n",
    "Equalized odds quantifies the understanding of fairness that (1) we should not make more mistakes for some groups than for other groups, and (2) different types of mistakes should be evaluated separately. Similar to demographic parity, the equalized odds criterion acknowledges that the relationship between the features and the target may differ across groups and that this should be accounted for. The constraint is less strict compared to demographic parity, as it allows the disparity to be 'explained' by the target variable $Y$. A violation of equalized odds indicates either, (1) the model is less able to distinguish positives from negatives for some groups compared to others, (2) the distribution of positives and negatives differs between groups, resulting in _different_ types of misclassifications. For example, if the proportion of qualified men is higher compared to the proportion of qualified women, the proportion of men that receive a high score will also be higher compared to the proportion of women that receive a high score. As a result, men will be misclassified as a false positive more often compared to women. Vice versa, women are more likely to be misclassified as a false negative compared to men.\n",
    "\n",
    "--- \n",
    "\n",
    "As we have seen in the introduction, a false positive prediction in pre-trial risk assessment can have large consequences for the involved defendant. It may even result in the defendant pleading guilty to a crime they did not commit. Let's compute the false positive rates and false negative rates."
   ]
  },
  {
   "cell_type": "code",
   "execution_count": 10,
   "metadata": {},
   "outputs": [
    {
     "data": {
      "text/html": [
       "<div>\n",
       "<style scoped>\n",
       "    .dataframe tbody tr th:only-of-type {\n",
       "        vertical-align: middle;\n",
       "    }\n",
       "\n",
       "    .dataframe tbody tr th {\n",
       "        vertical-align: top;\n",
       "    }\n",
       "\n",
       "    .dataframe thead th {\n",
       "        text-align: right;\n",
       "    }\n",
       "</style>\n",
       "<table border=\"1\" class=\"dataframe\">\n",
       "  <thead>\n",
       "    <tr style=\"text-align: right;\">\n",
       "      <th></th>\n",
       "      <th>false positive rate</th>\n",
       "      <th>false negative rate</th>\n",
       "    </tr>\n",
       "    <tr>\n",
       "      <th>race</th>\n",
       "      <th></th>\n",
       "      <th></th>\n",
       "    </tr>\n",
       "  </thead>\n",
       "  <tbody>\n",
       "    <tr>\n",
       "      <th>African-American</th>\n",
       "      <td>0.423382</td>\n",
       "      <td>0.284768</td>\n",
       "    </tr>\n",
       "    <tr>\n",
       "      <th>Caucasian</th>\n",
       "      <td>0.220141</td>\n",
       "      <td>0.496350</td>\n",
       "    </tr>\n",
       "  </tbody>\n",
       "</table>\n",
       "</div>"
      ],
      "text/plain": [
       "                  false positive rate  false negative rate\n",
       "race                                                      \n",
       "African-American             0.423382             0.284768\n",
       "Caucasian                    0.220141             0.496350"
      ]
     },
     "metadata": {},
     "output_type": "display_data"
    },
    {
     "name": "stdout",
     "output_type": "stream",
     "text": [
      "false positive rate diff: 0.20\n",
      "false negative rate diff: 0.21\n",
      "equalized odds diff: 0.21\n"
     ]
    }
   ],
   "source": [
    "# compute metrics\n",
    "mf = MetricFrame(metrics = \n",
    "                 {'false positive rate' : false_positive_rate,\n",
    "                  'false negative rate' : false_negative_rate}, \n",
    "                 y_true=data['two_year_recid'], \n",
    "                 y_pred=data['decile_score_cutoff'], \n",
    "                 sensitive_features=data[['race']])\n",
    "display(mf.by_group)\n",
    "\n",
    "# summarize differences\n",
    "for i in mf.difference('between_groups').items():\n",
    "    print(\"%s diff: %.2f\" % i)\n",
    "\n",
    "# alternatively: summarize equalized odds in one metric (which is the max of fpr diff and fnr diff)\n",
    "dpd = equalized_odds_difference(data['two_year_recid'], \n",
    "                                    data['decile_score_cutoff'], \n",
    "                                    sensitive_features=data['race'], \n",
    "                                    method='between_groups')\n",
    "print(\"equalized odds diff: %.2f\" % dpd)"
   ]
  },
  {
   "cell_type": "markdown",
   "metadata": {},
   "source": [
    "Similar to Propublica's assessment, we find that **the false positive rate is almost twice as high for African Americans compared to Caucasians**. In other words, African Americans are more often falsely predicted to be re-arrested. At the same time, the false negative rate is much higher for Caucasians, indicating that Caucasians are more often released even though they will re-offend. "
   ]
  },
  {
   "cell_type": "markdown",
   "metadata": {},
   "source": [
    "## Equal Calibration\n",
    "\n",
    "Northpointe, the developers of COMPAS, responded to Propublica's analysis that COMPAS scores are fair because the scores are **equally calibrated** across racial groups. In other words, for each possible risk score, the probability that you belong to a particular class is the same, regardless of the group to which you belong.\n",
    "\n",
    "\n",
    "```{admonition} Equal Calibration\n",
    "Equal Calibration holds if, for all values of $y$, $a$, and $r$ \n",
    "\n",
    "$$P(Y = y | A = a, \\hat{Y} = y) = P(Y = y | A = a', \\hat{Y} = y)$$ \n",
    "\n",
    "where $\\hat{Y}$ is the output of our model, $Y$ the observed outcome, and $A$ the set of sensitive characteristics.\n",
    "```\n",
    "\n",
    "For example, given that an instance is predicted to belong to the negative class, the probability of actually belonging to the negative class is independent of sensitive group membership.  In the binary classification scenario, equal calibration implies that the **positive predictive value** (which is equivalent to *precision*) and **negative predictive value** are equal across groups.\n",
    "\n",
    "As opposed to demographic parity and equalized odds, requiring equal calibration usually does not require an active intervention. That is, we usually get equal calibration \"for free\" when we use machine learning approaches.\n",
    "\n",
    "### What normative or empirical assumptions underly equal calibration as a fairness constraint?\n",
    "Equal calibration quantifies an understanding of fairness that a score should have the same *meaning*, regardless of sensitive group membership. Similar to equalized odds, the underlying assumption is that the target variable is a reasonable representation of what reality looks or should look like. However, as opposed to equalized odds, equal calibration does take into consideration that the relationship between features and target variable may be different across groups.\n",
    "\n",
    "--- \n",
    "\n",
    "Let's verify Northpointe's claim regarding the calibration of COMPAS scores."
   ]
  },
  {
   "cell_type": "code",
   "execution_count": 11,
   "metadata": {},
   "outputs": [
    {
     "data": {
      "text/html": [
       "<div>\n",
       "<style scoped>\n",
       "    .dataframe tbody tr th:only-of-type {\n",
       "        vertical-align: middle;\n",
       "    }\n",
       "\n",
       "    .dataframe tbody tr th {\n",
       "        vertical-align: top;\n",
       "    }\n",
       "\n",
       "    .dataframe thead th {\n",
       "        text-align: right;\n",
       "    }\n",
       "</style>\n",
       "<table border=\"1\" class=\"dataframe\">\n",
       "  <thead>\n",
       "    <tr style=\"text-align: right;\">\n",
       "      <th></th>\n",
       "      <th>positive predictive value</th>\n",
       "      <th>negative predictive value</th>\n",
       "    </tr>\n",
       "    <tr>\n",
       "      <th>race</th>\n",
       "      <th></th>\n",
       "      <th></th>\n",
       "    </tr>\n",
       "  </thead>\n",
       "  <tbody>\n",
       "    <tr>\n",
       "      <th>African-American</th>\n",
       "      <td>0.649535</td>\n",
       "      <td>0.648588</td>\n",
       "    </tr>\n",
       "    <tr>\n",
       "      <th>Caucasian</th>\n",
       "      <td>0.594828</td>\n",
       "      <td>0.710021</td>\n",
       "    </tr>\n",
       "  </tbody>\n",
       "</table>\n",
       "</div>"
      ],
      "text/plain": [
       "                  positive predictive value  negative predictive value\n",
       "race                                                                  \n",
       "African-American                   0.649535                   0.648588\n",
       "Caucasian                          0.594828                   0.710021"
      ]
     },
     "metadata": {},
     "output_type": "display_data"
    },
    {
     "name": "stdout",
     "output_type": "stream",
     "text": [
      "positive predictive value diff: 0.05\n",
      "negative predictive value diff: 0.06\n",
      "npv diff: 0.06\n"
     ]
    }
   ],
   "source": [
    "def negative_predictive_value_score(y_true, y_pred, **kwargs):\n",
    "    \"\"\"\n",
    "    NPV is not in scikit-learn, but is the same as PPV but with 0 and 1 swapped. \n",
    "    \"\"\"\n",
    "    return precision_score(y_true, y_pred, pos_label=0, **kwargs)\n",
    "\n",
    "# compute metrics\n",
    "mf = MetricFrame(metrics = \n",
    "                 {'positive predictive value' : precision_score,\n",
    "                  'negative predictive value' : negative_predictive_value_score}, \n",
    "                 y_true=data['two_year_recid'], \n",
    "                 y_pred=data['decile_score_cutoff'], \n",
    "                 sensitive_features=data['race'])\n",
    "display(mf.by_group)\n",
    "\n",
    "# summarize differences\n",
    "for i in mf.difference('between_groups').items():\n",
    "    print(\"%s diff: %.2f\" % i)\n",
    "\n",
    "# we can also define a custom fairness metric for npv (giving the same results as mf.differnece())\n",
    "npv_score_diff = make_derived_metric(metric=negative_predictive_value_score, transform='difference')\n",
    "npvd = npv_score_diff(data['two_year_recid'], \n",
    "                    data['decile_score_cutoff'], \n",
    "                    sensitive_features=data['race'], \n",
    "                    method='between_groups')\n",
    "print(\"npv diff: %.2f\" % npvd)"
   ]
  },
  {
   "cell_type": "markdown",
   "metadata": {},
   "source": [
    "We can further investigate the calibration of the original COMPAS scores (i.e., before we binarized them using a cut-off value of 5) in more detail by plotting a **calibration curve** for each racial group."
   ]
  },
  {
   "cell_type": "code",
   "execution_count": 12,
   "metadata": {
    "tags": []
   },
   "outputs": [
    {
     "data": {
      "image/png": "[encoded data removed]",
      "text/plain": [
       "<Figure size 432x288 with 1 Axes>"
      ]
     },
     "metadata": {
      "needs_background": "light"
     },
     "output_type": "display_data"
    }
   ],
   "source": [
    "# normalize predicted scores to from 0 to 1\n",
    "data['decile_score_norm'] = (data['decile_score'] - 1)/9\n",
    "\n",
    "# display calibration curves\n",
    "ax = plt.gca()\n",
    "plt.plot([0, 1], [0, 1], \"k:\", label=\"Perfectly calibrated\")\n",
    "for race in ['Caucasian', 'African-American']:\n",
    "    CalibrationDisplay.from_predictions(y_true=data[data['race']==race]['two_year_recid'], \n",
    "                                        y_prob=data[data['race']==race]['decile_score_norm'],\n",
    "                                        n_bins=10,\n",
    "                                        ax=ax, \n",
    "                                        label=race)\n",
    "plt.show()"
   ]
  },
  {
   "cell_type": "markdown",
   "metadata": {},
   "source": [
    "Indeed, we see that the calibration curves are similar for both groups (though both quite far from perfectly calibrated!), indicating that COMPAS scores are equally calibrated for African-Americans and Caucasians.\n",
    "\n",
    "\n",
    "## Impossibilities \n",
    "\n",
    "In this tutorial, we have seen that some understanding of fairness (equal calibration) holds for COMPAS scores, whereas others (equalized odds and demographic parity) do not. These findings are not specific to the COMPAS case. \n",
    "\n",
    "It has been proven mathematically that in cases where *sensitive group membership is **not** independent of the target variable* and the classifier's output is well calibrated, **it is impossible for these three fairness criteria to hold at the same time** (see e.g., [Kleinberg et al., 2016](https://arxiv.org/pdf/1609.05807.pdf)).\n",
    "\n",
    "* *Demographic Parity and Equal Calibration*. If group membership is related to the target variable, one group has a higher base rate (i.e., proportion of positives) than the other. If we want to enforce demographic parity in this scenario, we need to select more positives in the disadvantaged group than suggested by the observed target outcome. Consequently, the positive predictive value of our classifier will be different for each group, because the proportion of true positives from all instances we predicted to be positive will be lower in the disadvantaged group.\n",
    "\n",
    "* *Demographic parity and Equalized Odds*. As before, the only way to satisfy demographic parity with unequal base rates is to classify some instances of the disadvantaged group as positives, even if they should be negatives according to the observed target variable. Hence, provided that the scores are well-calibrated (i.e., we use the same cut-off score for each group), we cannot satisfy both demographic parity and equalized odds at the same time.\n",
    "\n",
    "* *Equal Calibration and Equalized Odds*. When a classifier is imperfect, it is impossible to satisfy both equal calibration and equalized odds at the same time. An intuitive explanation of this impossibility is to recall that equal calibration requires equal *positive predictive value* across groups (a.k.a., precision), whereas equalized odds requires equal false negative rates, which corresponds to equal true positive rates (a.k.a. recall). If we adjust our classifier such that the precision is equal across groups, this will decrease the recall, and vice versa.\n",
    "\n",
    "It is important to realize that **the impossibilities are not so much a mathematical dispute, but a dispute of the underlying understanding of what we consider fair**. Which notion of fairness is relevant depends on your assumptions about the context and your underlying moral values. In practice, make your assumptions explicit when discussing fairness with other stakeholders, as this allows for a more meaningful discourse.\n",
    "\n",
    "# Concluding Remarks\n",
    "The main take aways of this tutorial are:\n",
    "* Different **fairness metrics** represent different **theoretical understandings** of fairness, which is reflected in their incompatibility.\n",
    "* **Reliability of estimates** is an important problem in fairness assessments, as often (small) subgroups of a dataset are evaluated.\n",
    "* **Construct validity** is central to assessing fairness and should be considered when you define a target variable, measure sensitive group membership, and choose a fairness metric.\n",
    "\n",
    "# Discussion Points\n",
    "* What notion of fairness is most appropriate in the pre-trial risk assessment scenario, in your opinion? Why? If you feel like you don't have enough information to answer this question, which information would you need to make an informed judgment?\n",
    "* A way to account for unequal selection rates is to use a different cut-off score for each group. Note that this policy has the consequence that two defendants with the same risk score but a different race may be classified differently. Under what conditions would you consider such a policy fair, if any? Does your conclusion depend on the underlying source of the bias in the data?\n",
    "* How equal is equal enough? How much overall performance would you sacrifice for optimizing for a fairness metric, if any?"
   ]
  },
  {
   "cell_type": "code",
   "execution_count": null,
   "metadata": {},
   "outputs": [],
   "source": []
  }
 ],
 "metadata": {
  "kernelspec": {
   "display_name": "Python 3",
   "language": "python",
   "name": "python3"
  },
  "language_info": {
   "codemirror_mode": {
    "name": "ipython",
    "version": 3
   },
   "file_extension": ".py",
   "mimetype": "text/x-python",
   "name": "python",
   "nbconvert_exporter": "python",
   "pygments_lexer": "ipython3",
   "version": "3.8.3"
  }
 },
 "nbformat": 4,
 "nbformat_minor": 4
}
