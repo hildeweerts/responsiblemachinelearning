{
 "cells": [
  {
   "cell_type": "markdown",
   "id": "33211a4f",
   "metadata": {},
   "source": [
    "# An Introduction to Responsible Machine Learning\n",
    "\n",
    "by _Hilde Weerts_"
   ]
  },
  {
   "cell_type": "code",
   "execution_count": 1,
   "id": "5a69f581",
   "metadata": {
    "tags": [
     "remove-cell"
    ]
   },
   "outputs": [
    {
     "data": {
      "text/plain": [
       "'2025-02-17'"
      ]
     },
     "metadata": {
      "scrapbook": {
       "mime_prefix": "",
       "name": "today"
      }
     },
     "output_type": "display_data"
    }
   ],
   "source": [
    "from datetime import date\n",
    "from myst_nb import glue\n",
    "glue(\"today\", date.today().strftime('%Y-%m-%d'))"
   ]
  },
  {
   "cell_type": "markdown",
   "id": "2343af00",
   "metadata": {},
   "source": [
    "Last updated: {glue:text}`today`\n",
    "\n",
    "```{note}\n",
    "This book is still very much a work in progress. If you have suggestions, questions, or comments, please feel free to open an issue on the [Github repository](https://github.com/hildeweerts/responsiblemachinelearning).\n",
    "```\n",
    "\n",
    "---\n",
    "\n",
    "With the advent of large-scale data collection, the toolkit of a data scientist has proven to be a powerful way to make products and processes faster, cheaper, and better. Many data science applications make use of machine learning algorithms: algorithms that build mathematical models by 'learning' from data. Nowadays, machine learning models are integrated into many computer systems: from music recommendations to automated fraud detection, facial recognition systems, and personalized medicine assistants. These systems can provide benefits but are not without risks.\n",
    "\n",
    "A responsible data scientist understands the potential harm of machine learning models and how to mitigate the risks. This online book provides a practical introduction to the nascent field of responsible machine learning. The goal of this book is to provide a practical approach, building a bridge between philosophical, social, and technical perspectives.\n",
    "\n",
    "`````{grid} 1 2 2 2\n",
    ":gutter: 3\n",
    "\n",
    "````{grid-item-card} Fairness\n",
    "Data-driven systems can inherit the existing prejudices embedded in society, resulting in systematic discrimination or other harms.\n",
    "\n",
    "```{button-ref} intro_fairness\n",
    ":expand:\n",
    ":color: primary\n",
    ":outline:\n",
    "\n",
    "learn more\n",
    "```\n",
    "\n",
    "````\n",
    "\n",
    "<!--\n",
    "````{grid-item-card} Transparency\n",
    "As the complexity of machine learning models increase, it becomes more difficult for humans to understand, assess, and justify their behavior.\n",
    "\n",
    "```{button-ref} intro_xai\n",
    ":expand:\n",
    ":color: primary\n",
    ":outline:\n",
    "\n",
    "learn more\n",
    "```\n",
    "\n",
    "````\n",
    "-->\n",
    "\n",
    "`````\n",
    "\n",
    "---\n",
    "\n",
    "**Code examples**\n",
    "\n",
    "The code examples in this book are generated with the following package versions."
   ]
  },
  {
   "cell_type": "code",
   "execution_count": 2,
   "id": "9fa317f6",
   "metadata": {
    "tags": [
     "remove-input"
    ]
   },
   "outputs": [
    {
     "name": "stdout",
     "output_type": "stream",
     "text": [
      "numpy==1.24.4\n",
      "pandas==2.0.3\n",
      "sklearn==1.2.1\n",
      "matplotlib==3.8.3\n",
      "fairlearn==0.10.0\n",
      "torch==2.2.1\n"
     ]
    }
   ],
   "source": [
    "import numpy\n",
    "import pandas\n",
    "import sklearn\n",
    "import matplotlib\n",
    "import fairlearn\n",
    "import torch\n",
    "\n",
    "print(\"numpy==%s\" % numpy.__version__)\n",
    "print(\"pandas==%s\" % pandas.__version__)\n",
    "print(\"sklearn==%s\" % sklearn.__version__)\n",
    "print(\"matplotlib==%s\" % matplotlib.__version__)\n",
    "print(\"fairlearn==%s\" % fairlearn.__version__)\n",
    "print(\"torch==%s\" % torch.__version__)"
   ]
  },
  {
   "cell_type": "markdown",
   "id": "ea86f4ac",
   "metadata": {},
   "source": [
    "---\n",
    "\n",
    "**Citing this book**\n",
    "\n",
    "To cite this book, please use the following bibtex entry:\n",
    "\n",
    "```{code-block}\n",
    "@book{weerts2024,\n",
    "  title = {An Introduction to Responsible Machine Learning},\n",
    "  author = {Hilde Weerts},\n",
    "  year = {2024},\n",
    "  url = {https://hildeweerts.github.io/responsiblemachinelearning/}\n",
    "}\n",
    "```\n",
    "\n",
    "---\n",
    "\n",
    "This work is licensed under a\n",
    "[Creative Commons Attribution-NonCommercial 4.0 International License][cc-by-nc].\n",
    "\n",
    "[![CC BY-NC 4.0][cc-by-nc-image]][cc-by-nc]\n",
    "\n",
    "[cc-by-nc]: http://creativecommons.org/licenses/by-nc/4.0/\n",
    "[cc-by-nc-image]: https://licensebuttons.net/l/by-nc/4.0/88x31.png\n",
    "[cc-by-nc-shield]: https://img.shields.io/badge/License-CC%20BY--NC%204.0-lightgrey.svg"
   ]
  }
 ],
 "metadata": {
  "jupytext": {
   "formats": "md:myst",
   "text_representation": {
    "extension": ".md",
    "format_name": "myst"
   }
  },
  "kernelspec": {
   "display_name": "Python 3",
   "language": "python",
   "name": "python3"
  },
  "language_info": {
   "codemirror_mode": {
    "name": "ipython",
    "version": 3
   },
   "file_extension": ".py",
   "mimetype": "text/x-python",
   "name": "python",
   "nbconvert_exporter": "python",
   "pygments_lexer": "ipython3",
   "version": "3.11.7"
  },
  "source_map": [
   11,
   17,
   24,
   77,
   96
  ]
 },
 "nbformat": 4,
 "nbformat_minor": 5
}