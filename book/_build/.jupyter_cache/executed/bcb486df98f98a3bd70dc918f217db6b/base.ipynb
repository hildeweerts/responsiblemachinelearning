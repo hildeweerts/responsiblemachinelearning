{
 "cells": [
  {
   "cell_type": "code",
   "execution_count": 1,
   "id": "a9c28fcf",
   "metadata": {
    "tags": [
     "remove-cell"
    ]
   },
   "outputs": [
    {
     "data": {
      "text/plain": [
       "'2024-03-28'"
      ]
     },
     "metadata": {
      "scrapbook": {
       "mime_prefix": "",
       "name": "today"
      }
     },
     "output_type": "display_data"
    }
   ],
   "source": [
    "from datetime import date\n",
    "from myst_nb import glue\n",
    "glue(\"today\", date.today().strftime('%Y-%m-%d'))"
   ]
  },
  {
   "cell_type": "code",
   "execution_count": 2,
   "id": "4b909640",
   "metadata": {
    "tags": [
     "remove-input"
    ]
   },
   "outputs": [
    {
     "name": "stdout",
     "output_type": "stream",
     "text": [
      "numpy==1.24.4\n",
      "pandas==2.0.3\n",
      "sklearn==1.2.1\n",
      "matplotlib==3.8.3\n",
      "fairlearn==0.10.0\n",
      "torch==2.2.1\n"
     ]
    }
   ],
   "source": [
    "import numpy\n",
    "import pandas\n",
    "import sklearn\n",
    "import matplotlib\n",
    "import fairlearn\n",
    "import torch\n",
    "\n",
    "print(\"numpy==%s\" % numpy.__version__)\n",
    "print(\"pandas==%s\" % pandas.__version__)\n",
    "print(\"sklearn==%s\" % sklearn.__version__)\n",
    "print(\"matplotlib==%s\" % matplotlib.__version__)\n",
    "print(\"fairlearn==%s\" % fairlearn.__version__)\n",
    "print(\"torch==%s\" % torch.__version__)"
   ]
  }
 ],
 "metadata": {
  "jupytext": {
   "formats": "md:myst",
   "text_representation": {
    "extension": ".md",
    "format_name": "myst"
   }
  },
  "kernelspec": {
   "display_name": "Python 3",
   "language": "python",
   "name": "python3"
  },
  "language_info": {
   "codemirror_mode": {
    "name": "ipython",
    "version": 3
   },
   "file_extension": ".py",
   "mimetype": "text/x-python",
   "name": "python",
   "nbconvert_exporter": "python",
   "pygments_lexer": "ipython3",
   "version": "3.11.7"
  },
  "source_map": [
   11,
   17,
   24,
   74,
   93
  ]
 },
 "nbformat": 4,
 "nbformat_minor": 5
}