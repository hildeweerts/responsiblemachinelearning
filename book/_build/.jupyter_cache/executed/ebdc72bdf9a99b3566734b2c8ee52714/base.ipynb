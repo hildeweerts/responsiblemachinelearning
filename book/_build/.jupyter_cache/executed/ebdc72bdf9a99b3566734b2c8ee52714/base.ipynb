{
 "cells": [
  {
   "cell_type": "code",
   "execution_count": 1,
   "metadata": {
    "tags": []
   },
   "outputs": [
    {
     "name": "stdout",
     "output_type": "stream",
     "text": [
      "pandas        Tested version: 2.0.3   Your version: 2.0.3\n",
      "numpy         Tested version: 1.24.5  Your version: 1.24.4\n",
      "matplotlib    Tested version: 3.5.3   Your version: 3.5.1\n",
      "scikit-learn  Tested version: 1.3.2   Your version: 1.2.1\n",
      "fairlearn     Tested version: 0.10.0  Your version: 0.10.0\n"
     ]
    }
   ],
   "source": [
    "# data wrangling\n",
    "import pandas as pd\n",
    "import numpy as np\n",
    "\n",
    "# visualization\n",
    "import matplotlib\n",
    "\n",
    "# other\n",
    "import sklearn\n",
    "import fairlearn\n",
    "\n",
    "# this tutorial has been tested with the following versions\n",
    "print(\"pandas        Tested version: 2.0.3   Your version: %s\" % pd.__version__)\n",
    "print(\"numpy         Tested version: 1.24.5  Your version: %s\" % np.__version__)\n",
    "print(\"matplotlib    Tested version: 3.5.3   Your version: %s\" % matplotlib.__version__)\n",
    "print(\"scikit-learn  Tested version: 1.3.2   Your version: %s\" % sklearn.__version__)\n",
    "print(\"fairlearn     Tested version: 0.10.0  Your version: %s\" % fairlearn.__version__)"
   ]
  },
  {
   "cell_type": "code",
   "execution_count": 2,
   "metadata": {},
   "outputs": [],
   "source": [
    "# import functionality\n",
    "import matplotlib.pyplot as plt\n",
    "from fairlearn.metrics import MetricFrame, make_derived_metric\n",
    "from sklearn.metrics import precision_score\n",
    "from fairlearn.metrics import selection_rate, count, false_positive_rate, false_negative_rate\n",
    "from fairlearn.metrics import demographic_parity_difference, equalized_odds_difference\n",
    "from sklearn.calibration import CalibrationDisplay"
   ]
  },
  {
   "cell_type": "code",
   "execution_count": 3,
   "metadata": {},
   "outputs": [
    {
     "data": {
      "text/html": [
       "<div>\n",
       "<style scoped>\n",
       "    .dataframe tbody tr th:only-of-type {\n",
       "        vertical-align: middle;\n",
       "    }\n",
       "\n",
       "    .dataframe tbody tr th {\n",
       "        vertical-align: top;\n",
       "    }\n",
       "\n",
       "    .dataframe thead th {\n",
       "        text-align: right;\n",
       "    }\n",
       "</style>\n",
       "<table border=\"1\" class=\"dataframe\">\n",
       "  <thead>\n",
       "    <tr style=\"text-align: right;\">\n",
       "      <th></th>\n",
       "      <th>sex</th>\n",
       "      <th>age</th>\n",
       "      <th>race</th>\n",
       "      <th>priors_count</th>\n",
       "      <th>decile_score</th>\n",
       "      <th>two_year_recid</th>\n",
       "      <th>decile_score_cutoff</th>\n",
       "    </tr>\n",
       "  </thead>\n",
       "  <tbody>\n",
       "    <tr>\n",
       "      <th>0</th>\n",
       "      <td>Male</td>\n",
       "      <td>69</td>\n",
       "      <td>Other</td>\n",
       "      <td>0</td>\n",
       "      <td>1</td>\n",
       "      <td>0</td>\n",
       "      <td>False</td>\n",
       "    </tr>\n",
       "    <tr>\n",
       "      <th>1</th>\n",
       "      <td>Male</td>\n",
       "      <td>34</td>\n",
       "      <td>African-American</td>\n",
       "      <td>0</td>\n",
       "      <td>3</td>\n",
       "      <td>1</td>\n",
       "      <td>False</td>\n",
       "    </tr>\n",
       "    <tr>\n",
       "      <th>2</th>\n",
       "      <td>Male</td>\n",
       "      <td>24</td>\n",
       "      <td>African-American</td>\n",
       "      <td>4</td>\n",
       "      <td>4</td>\n",
       "      <td>1</td>\n",
       "      <td>False</td>\n",
       "    </tr>\n",
       "    <tr>\n",
       "      <th>5</th>\n",
       "      <td>Male</td>\n",
       "      <td>44</td>\n",
       "      <td>Other</td>\n",
       "      <td>0</td>\n",
       "      <td>1</td>\n",
       "      <td>0</td>\n",
       "      <td>False</td>\n",
       "    </tr>\n",
       "    <tr>\n",
       "      <th>6</th>\n",
       "      <td>Male</td>\n",
       "      <td>41</td>\n",
       "      <td>Caucasian</td>\n",
       "      <td>14</td>\n",
       "      <td>6</td>\n",
       "      <td>1</td>\n",
       "      <td>True</td>\n",
       "    </tr>\n",
       "  </tbody>\n",
       "</table>\n",
       "</div>"
      ],
      "text/plain": [
       "    sex  age              race  priors_count  decile_score  two_year_recid  \\\n",
       "0  Male   69             Other             0             1               0   \n",
       "1  Male   34  African-American             0             3               1   \n",
       "2  Male   24  African-American             4             4               1   \n",
       "5  Male   44             Other             0             1               0   \n",
       "6  Male   41         Caucasian            14             6               1   \n",
       "\n",
       "   decile_score_cutoff  \n",
       "0                False  \n",
       "1                False  \n",
       "2                False  \n",
       "5                False  \n",
       "6                 True  "
      ]
     },
     "execution_count": 3,
     "metadata": {},
     "output_type": "execute_result"
    }
   ],
   "source": [
    "# load data\n",
    "data = pd.read_csv('compas-scores-two-years.csv')\n",
    "# filter similar to propublica\n",
    "data = data[(data['days_b_screening_arrest'] <= 30) &\n",
    "                (data['days_b_screening_arrest'] >= -30) &\n",
    "                (data['is_recid'] != -1) &\n",
    "                (data['c_charge_degree'] != \"O\") &\n",
    "                (data['score_text'] != \"N/A\")]\n",
    "# select columns\n",
    "data = data[['sex', 'age', 'race', 'priors_count', 'decile_score', 'two_year_recid']]\n",
    "# cut-off score 5 \n",
    "data['decile_score_cutoff']= data['decile_score'] >= 5\n",
    "# inspect\n",
    "data.head()"
   ]
  },
  {
   "cell_type": "code",
   "execution_count": 4,
   "metadata": {},
   "outputs": [
    {
     "data": {
      "text/html": [
       "<div>\n",
       "<style scoped>\n",
       "    .dataframe tbody tr th:only-of-type {\n",
       "        vertical-align: middle;\n",
       "    }\n",
       "\n",
       "    .dataframe tbody tr th {\n",
       "        vertical-align: top;\n",
       "    }\n",
       "\n",
       "    .dataframe thead th {\n",
       "        text-align: right;\n",
       "    }\n",
       "</style>\n",
       "<table border=\"1\" class=\"dataframe\">\n",
       "  <thead>\n",
       "    <tr style=\"text-align: right;\">\n",
       "      <th></th>\n",
       "      <th>selection rate (COMPAS)</th>\n",
       "    </tr>\n",
       "    <tr>\n",
       "      <th>race</th>\n",
       "      <th></th>\n",
       "    </tr>\n",
       "  </thead>\n",
       "  <tbody>\n",
       "    <tr>\n",
       "      <th>African-American</th>\n",
       "      <td>0.576063</td>\n",
       "    </tr>\n",
       "    <tr>\n",
       "      <th>Asian</th>\n",
       "      <td>0.225806</td>\n",
       "    </tr>\n",
       "    <tr>\n",
       "      <th>Caucasian</th>\n",
       "      <td>0.330956</td>\n",
       "    </tr>\n",
       "    <tr>\n",
       "      <th>Hispanic</th>\n",
       "      <td>0.277014</td>\n",
       "    </tr>\n",
       "    <tr>\n",
       "      <th>Native American</th>\n",
       "      <td>0.727273</td>\n",
       "    </tr>\n",
       "    <tr>\n",
       "      <th>Other</th>\n",
       "      <td>0.204082</td>\n",
       "    </tr>\n",
       "  </tbody>\n",
       "</table>\n",
       "</div>"
      ],
      "text/plain": [
       "                  selection rate (COMPAS)\n",
       "race                                     \n",
       "African-American                 0.576063\n",
       "Asian                            0.225806\n",
       "Caucasian                        0.330956\n",
       "Hispanic                         0.277014\n",
       "Native American                  0.727273\n",
       "Other                            0.204082"
      ]
     },
     "metadata": {},
     "output_type": "display_data"
    },
    {
     "name": "stdout",
     "output_type": "stream",
     "text": [
      "Overall SR: 0.45\n",
      "demographic parity diff: 0.52\n",
      "demographic parity diff: 0.52\n"
     ]
    }
   ],
   "source": [
    "# compute metrics by group\n",
    "mf = MetricFrame(metrics={'selection rate (COMPAS)' : selection_rate}, \n",
    "                 y_true=data['two_year_recid'], \n",
    "                 y_pred=data['decile_score_cutoff'], \n",
    "                 sensitive_features=data['race'])\n",
    "# print results\n",
    "display(mf.by_group)\n",
    "print(\"Overall SR: %.2f\" % mf.overall[0])\n",
    "\n",
    "# summarize demographic parity as the max difference between groups\n",
    "print(\"demographic parity diff: %.2f\" % mf.difference(method='between_groups')[0])\n",
    "\n",
    "# summarize demographic parity using the metric (this gives the exact same result as mf.difference())\n",
    "dpd = demographic_parity_difference(y_true=data['two_year_recid'], \n",
    "                                    y_pred=data['decile_score_cutoff'], \n",
    "                                    sensitive_features=data['race'], \n",
    "                                    method='between_groups') # summarize as the max difference between any of the groups\n",
    "print(\"demographic parity diff: %.2f\" % dpd)"
   ]
  },
  {
   "cell_type": "code",
   "execution_count": 5,
   "metadata": {},
   "outputs": [
    {
     "data": {
      "text/plain": [
       "race\n",
       "African-American    3175\n",
       "Caucasian           2103\n",
       "Hispanic             509\n",
       "Other                343\n",
       "Asian                 31\n",
       "Native American       11\n",
       "Name: count, dtype: int64"
      ]
     },
     "metadata": {},
     "output_type": "display_data"
    },
    {
     "data": {
      "text/html": [
       "<div>\n",
       "<style scoped>\n",
       "    .dataframe tbody tr th:only-of-type {\n",
       "        vertical-align: middle;\n",
       "    }\n",
       "\n",
       "    .dataframe tbody tr th {\n",
       "        vertical-align: top;\n",
       "    }\n",
       "\n",
       "    .dataframe thead th {\n",
       "        text-align: right;\n",
       "    }\n",
       "</style>\n",
       "<table border=\"1\" class=\"dataframe\">\n",
       "  <thead>\n",
       "    <tr style=\"text-align: right;\">\n",
       "      <th></th>\n",
       "      <th>count</th>\n",
       "    </tr>\n",
       "    <tr>\n",
       "      <th>race</th>\n",
       "      <th></th>\n",
       "    </tr>\n",
       "  </thead>\n",
       "  <tbody>\n",
       "    <tr>\n",
       "      <th>African-American</th>\n",
       "      <td>3175</td>\n",
       "    </tr>\n",
       "    <tr>\n",
       "      <th>Asian</th>\n",
       "      <td>31</td>\n",
       "    </tr>\n",
       "    <tr>\n",
       "      <th>Caucasian</th>\n",
       "      <td>2103</td>\n",
       "    </tr>\n",
       "    <tr>\n",
       "      <th>Hispanic</th>\n",
       "      <td>509</td>\n",
       "    </tr>\n",
       "    <tr>\n",
       "      <th>Native American</th>\n",
       "      <td>11</td>\n",
       "    </tr>\n",
       "    <tr>\n",
       "      <th>Other</th>\n",
       "      <td>343</td>\n",
       "    </tr>\n",
       "  </tbody>\n",
       "</table>\n",
       "</div>"
      ],
      "text/plain": [
       "                  count\n",
       "race                   \n",
       "African-American   3175\n",
       "Asian                31\n",
       "Caucasian          2103\n",
       "Hispanic            509\n",
       "Native American      11\n",
       "Other               343"
      ]
     },
     "metadata": {},
     "output_type": "display_data"
    }
   ],
   "source": [
    "# number of instances in each racial category\n",
    "display(data['race'].value_counts())\n",
    "\n",
    "# we can also include count as a metric in MetricFrame\n",
    "mf = MetricFrame(metrics={'count' : count}, \n",
    "                 y_true=data['two_year_recid'], \n",
    "                 y_pred=data['decile_score_cutoff'], \n",
    "                 sensitive_features=data['race'])\n",
    "display(mf.by_group)"
   ]
  },
  {
   "cell_type": "code",
   "execution_count": 6,
   "metadata": {},
   "outputs": [
    {
     "data": {
      "text/html": [
       "<div>\n",
       "<style scoped>\n",
       "    .dataframe tbody tr th:only-of-type {\n",
       "        vertical-align: middle;\n",
       "    }\n",
       "\n",
       "    .dataframe tbody tr th {\n",
       "        vertical-align: top;\n",
       "    }\n",
       "\n",
       "    .dataframe thead tr th {\n",
       "        text-align: left;\n",
       "    }\n",
       "\n",
       "    .dataframe thead tr:last-of-type th {\n",
       "        text-align: right;\n",
       "    }\n",
       "</style>\n",
       "<table border=\"1\" class=\"dataframe\">\n",
       "  <thead>\n",
       "    <tr>\n",
       "      <th></th>\n",
       "      <th>0.025</th>\n",
       "      <th>0.975</th>\n",
       "    </tr>\n",
       "    <tr>\n",
       "      <th></th>\n",
       "      <th>selection rate (COMPAS)</th>\n",
       "      <th>selection rate (COMPAS)</th>\n",
       "    </tr>\n",
       "    <tr>\n",
       "      <th>race</th>\n",
       "      <th></th>\n",
       "      <th></th>\n",
       "    </tr>\n",
       "  </thead>\n",
       "  <tbody>\n",
       "    <tr>\n",
       "      <th>African-American</th>\n",
       "      <td>0.560148</td>\n",
       "      <td>0.590021</td>\n",
       "    </tr>\n",
       "    <tr>\n",
       "      <th>Asian</th>\n",
       "      <td>0.082296</td>\n",
       "      <td>0.363561</td>\n",
       "    </tr>\n",
       "    <tr>\n",
       "      <th>Caucasian</th>\n",
       "      <td>0.315466</td>\n",
       "      <td>0.350783</td>\n",
       "    </tr>\n",
       "    <tr>\n",
       "      <th>Hispanic</th>\n",
       "      <td>0.242634</td>\n",
       "      <td>0.314458</td>\n",
       "    </tr>\n",
       "    <tr>\n",
       "      <th>Native American</th>\n",
       "      <td>0.492424</td>\n",
       "      <td>1.000000</td>\n",
       "    </tr>\n",
       "    <tr>\n",
       "      <th>Other</th>\n",
       "      <td>0.169057</td>\n",
       "      <td>0.250043</td>\n",
       "    </tr>\n",
       "  </tbody>\n",
       "</table>\n",
       "</div>"
      ],
      "text/plain": [
       "                                   0.025                   0.975\n",
       "                 selection rate (COMPAS) selection rate (COMPAS)\n",
       "race                                                            \n",
       "African-American                0.560148                0.590021\n",
       "Asian                           0.082296                0.363561\n",
       "Caucasian                       0.315466                0.350783\n",
       "Hispanic                        0.242634                0.314458\n",
       "Native American                 0.492424                1.000000\n",
       "Other                           0.169057                0.250043"
      ]
     },
     "metadata": {},
     "output_type": "display_data"
    },
    {
     "data": {
      "image/png": "[encoded data removed]",
      "text/plain": [
       "<Figure size 640x480 with 1 Axes>"
      ]
     },
     "metadata": {},
     "output_type": "display_data"
    },
    {
     "name": "stdout",
     "output_type": "stream",
     "text": [
      "demographic parity diff: 0.52 (95 CI [0.38, 0.82])\n"
     ]
    }
   ],
   "source": [
    "# compute metrics by group\n",
    "mf = MetricFrame(metrics={'selection rate (COMPAS)' : selection_rate}, \n",
    "                 y_true=data['two_year_recid'], \n",
    "                 y_pred=data['decile_score_cutoff'], \n",
    "                 sensitive_features=data['race'],\n",
    "                 n_boot=100,\n",
    "                 ci_quantiles=[0.025, 0.975], # for a 95% CI, we need the 0.025 and 0.975 quantiles\n",
    "                 random_state=42)\n",
    "\n",
    "# display quantiles\n",
    "errors = pd.concat(mf.by_group_ci, keys=mf.ci_quantiles, axis=1)\n",
    "display(errors)\n",
    "\n",
    "# plot errorbars\n",
    "# matplotlib requires errorbars to be supplied as the size of the errorbar\n",
    "errors['size min'] = mf.by_group - errors.loc[:,0.025]\n",
    "errors['size max'] = errors.loc[:,0.975] - mf.by_group\n",
    "mf.by_group.plot(kind='bar', yerr=[errors['size min'], errors['size max']])\n",
    "plt.title(\"COMPAS selection rates (95% CI)\")\n",
    "plt.show()\n",
    "\n",
    "# print confidence interval of maximum demographic parity difference\n",
    "dpd = mf.difference()\n",
    "dpd_ci = mf.difference_ci()\n",
    "print(\"demographic parity diff: %.2f (95 CI [%.2f, %.2f])\" % (dpd.iloc[0], dpd_ci[0].iloc[0], dpd_ci[1].iloc[0]))"
   ]
  },
  {
   "cell_type": "code",
   "execution_count": 7,
   "metadata": {},
   "outputs": [],
   "source": [
    "# select two largest groups\n",
    "data = data[(data['race'] == 'African-American') | (data['race'] == 'Caucasian')]"
   ]
  },
  {
   "cell_type": "code",
   "execution_count": 8,
   "metadata": {},
   "outputs": [
    {
     "data": {
      "text/html": [
       "<div>\n",
       "<style scoped>\n",
       "    .dataframe tbody tr th:only-of-type {\n",
       "        vertical-align: middle;\n",
       "    }\n",
       "\n",
       "    .dataframe tbody tr th {\n",
       "        vertical-align: top;\n",
       "    }\n",
       "\n",
       "    .dataframe thead th {\n",
       "        text-align: right;\n",
       "    }\n",
       "</style>\n",
       "<table border=\"1\" class=\"dataframe\">\n",
       "  <thead>\n",
       "    <tr style=\"text-align: right;\">\n",
       "      <th></th>\n",
       "      <th>selection rate (COMPAS)</th>\n",
       "    </tr>\n",
       "    <tr>\n",
       "      <th>race</th>\n",
       "      <th></th>\n",
       "    </tr>\n",
       "  </thead>\n",
       "  <tbody>\n",
       "    <tr>\n",
       "      <th>African-American</th>\n",
       "      <td>0.576063</td>\n",
       "    </tr>\n",
       "    <tr>\n",
       "      <th>Caucasian</th>\n",
       "      <td>0.330956</td>\n",
       "    </tr>\n",
       "  </tbody>\n",
       "</table>\n",
       "</div>"
      ],
      "text/plain": [
       "                  selection rate (COMPAS)\n",
       "race                                     \n",
       "African-American                 0.576063\n",
       "Caucasian                        0.330956"
      ]
     },
     "metadata": {},
     "output_type": "display_data"
    },
    {
     "name": "stdout",
     "output_type": "stream",
     "text": [
      "demographic parity diff: 0.25 (95 CI [0.22, 0.27])\n"
     ]
    },
    {
     "data": {
      "text/html": [
       "<div>\n",
       "<style scoped>\n",
       "    .dataframe tbody tr th:only-of-type {\n",
       "        vertical-align: middle;\n",
       "    }\n",
       "\n",
       "    .dataframe tbody tr th {\n",
       "        vertical-align: top;\n",
       "    }\n",
       "\n",
       "    .dataframe thead th {\n",
       "        text-align: right;\n",
       "    }\n",
       "</style>\n",
       "<table border=\"1\" class=\"dataframe\">\n",
       "  <thead>\n",
       "    <tr style=\"text-align: right;\">\n",
       "      <th></th>\n",
       "      <th>base rate</th>\n",
       "    </tr>\n",
       "    <tr>\n",
       "      <th>race</th>\n",
       "      <th></th>\n",
       "    </tr>\n",
       "  </thead>\n",
       "  <tbody>\n",
       "    <tr>\n",
       "      <th>African-American</th>\n",
       "      <td>0.52315</td>\n",
       "    </tr>\n",
       "    <tr>\n",
       "      <th>Caucasian</th>\n",
       "      <td>0.39087</td>\n",
       "    </tr>\n",
       "  </tbody>\n",
       "</table>\n",
       "</div>"
      ],
      "text/plain": [
       "                  base rate\n",
       "race                       \n",
       "African-American    0.52315\n",
       "Caucasian           0.39087"
      ]
     },
     "metadata": {},
     "output_type": "display_data"
    },
    {
     "name": "stdout",
     "output_type": "stream",
     "text": [
      "base rate diff: 0.13 (95 CI [0.11, 0.16])\n"
     ]
    }
   ],
   "source": [
    "# compute selection rate by group\n",
    "mf = MetricFrame(metrics={'selection rate (COMPAS)' : selection_rate}, \n",
    "                 y_true=data['two_year_recid'], \n",
    "                 y_pred=data['decile_score_cutoff'], \n",
    "                 sensitive_features=data['race'],\n",
    "                 n_boot=100,\n",
    "                 ci_quantiles=[0.025, 0.975], # for a 95% CI, we need the 0.025 and 0.975 quantiles\n",
    "                 random_state=42)\n",
    "display(mf.by_group)\n",
    "\n",
    "# print confidence interval of maximum demographic parity difference\n",
    "dpd = mf.difference()\n",
    "dpd_ci = mf.difference_ci()\n",
    "print(\"demographic parity diff: %.2f (95 CI [%.2f, %.2f])\" % (dpd.iloc[0], dpd_ci[0].iloc[0], dpd_ci[1].iloc[0]))\n",
    "\n",
    "# by choosing y_pred to be ground truth instead of predictions, we can easily compute the base rate in the data\n",
    "mf = MetricFrame(metrics={'base rate' : selection_rate}, \n",
    "                 y_true=data['two_year_recid'], \n",
    "                 y_pred=data['two_year_recid'], \n",
    "                 sensitive_features=data['race'],\n",
    "                 n_boot=100, \n",
    "                 ci_quantiles=[0.025, 0.975], # for a 95% CI, we need the 0.025 and 0.975 quantiles\n",
    "                 random_state=42,\n",
    "                )\n",
    "display(mf.by_group)\n",
    "\n",
    "# max base rate difference between groups\n",
    "bpd = mf.difference()\n",
    "bpd_ci = mf.difference_ci()\n",
    "print(\"base rate diff: %.2f (95 CI [%.2f, %.2f])\" % (bpd.iloc[0], bpd_ci[0].iloc[0], bpd_ci[1].iloc[0]))"
   ]
  },
  {
   "cell_type": "code",
   "execution_count": 9,
   "metadata": {},
   "outputs": [
    {
     "data": {
      "text/html": [
       "<div>\n",
       "<style scoped>\n",
       "    .dataframe tbody tr th:only-of-type {\n",
       "        vertical-align: middle;\n",
       "    }\n",
       "\n",
       "    .dataframe tbody tr th {\n",
       "        vertical-align: top;\n",
       "    }\n",
       "\n",
       "    .dataframe thead th {\n",
       "        text-align: right;\n",
       "    }\n",
       "</style>\n",
       "<table border=\"1\" class=\"dataframe\">\n",
       "  <thead>\n",
       "    <tr style=\"text-align: right;\">\n",
       "      <th></th>\n",
       "      <th>false positive rate</th>\n",
       "      <th>false negative rate</th>\n",
       "    </tr>\n",
       "    <tr>\n",
       "      <th>race</th>\n",
       "      <th></th>\n",
       "      <th></th>\n",
       "    </tr>\n",
       "  </thead>\n",
       "  <tbody>\n",
       "    <tr>\n",
       "      <th>African-American</th>\n",
       "      <td>0.423382</td>\n",
       "      <td>0.284768</td>\n",
       "    </tr>\n",
       "    <tr>\n",
       "      <th>Caucasian</th>\n",
       "      <td>0.220141</td>\n",
       "      <td>0.496350</td>\n",
       "    </tr>\n",
       "  </tbody>\n",
       "</table>\n",
       "</div>"
      ],
      "text/plain": [
       "                  false positive rate  false negative rate\n",
       "race                                                      \n",
       "African-American             0.423382             0.284768\n",
       "Caucasian                    0.220141             0.496350"
      ]
     },
     "metadata": {},
     "output_type": "display_data"
    },
    {
     "name": "stdout",
     "output_type": "stream",
     "text": [
      "false positive rate diff: 0.20\n",
      "false negative rate diff: 0.21\n",
      "equalized odds diff: 0.21\n"
     ]
    }
   ],
   "source": [
    "# compute metrics\n",
    "mf = MetricFrame(metrics = \n",
    "                 {'false positive rate' : false_positive_rate,\n",
    "                  'false negative rate' : false_negative_rate}, \n",
    "                 y_true=data['two_year_recid'], \n",
    "                 y_pred=data['decile_score_cutoff'], \n",
    "                 sensitive_features=data[['race']])\n",
    "display(mf.by_group)\n",
    "\n",
    "# summarize differences\n",
    "for i in mf.difference('between_groups').items():\n",
    "    print(\"%s diff: %.2f\" % i)\n",
    "\n",
    "# alternatively: summarize equalized odds in one metric (which is the max of fpr diff and fnr diff)\n",
    "dpd = equalized_odds_difference(data['two_year_recid'], \n",
    "                                    data['decile_score_cutoff'], \n",
    "                                    sensitive_features=data['race'], \n",
    "                                    method='between_groups')\n",
    "print(\"equalized odds diff: %.2f\" % dpd)"
   ]
  },
  {
   "cell_type": "code",
   "execution_count": 10,
   "metadata": {},
   "outputs": [
    {
     "data": {
      "text/html": [
       "<div>\n",
       "<style scoped>\n",
       "    .dataframe tbody tr th:only-of-type {\n",
       "        vertical-align: middle;\n",
       "    }\n",
       "\n",
       "    .dataframe tbody tr th {\n",
       "        vertical-align: top;\n",
       "    }\n",
       "\n",
       "    .dataframe thead th {\n",
       "        text-align: right;\n",
       "    }\n",
       "</style>\n",
       "<table border=\"1\" class=\"dataframe\">\n",
       "  <thead>\n",
       "    <tr style=\"text-align: right;\">\n",
       "      <th></th>\n",
       "      <th>positive predictive value</th>\n",
       "      <th>negative predictive value</th>\n",
       "    </tr>\n",
       "    <tr>\n",
       "      <th>race</th>\n",
       "      <th></th>\n",
       "      <th></th>\n",
       "    </tr>\n",
       "  </thead>\n",
       "  <tbody>\n",
       "    <tr>\n",
       "      <th>African-American</th>\n",
       "      <td>0.649535</td>\n",
       "      <td>0.648588</td>\n",
       "    </tr>\n",
       "    <tr>\n",
       "      <th>Caucasian</th>\n",
       "      <td>0.594828</td>\n",
       "      <td>0.710021</td>\n",
       "    </tr>\n",
       "  </tbody>\n",
       "</table>\n",
       "</div>"
      ],
      "text/plain": [
       "                  positive predictive value  negative predictive value\n",
       "race                                                                  \n",
       "African-American                   0.649535                   0.648588\n",
       "Caucasian                          0.594828                   0.710021"
      ]
     },
     "metadata": {},
     "output_type": "display_data"
    },
    {
     "name": "stdout",
     "output_type": "stream",
     "text": [
      "positive predictive value diff: 0.05\n",
      "negative predictive value diff: 0.06\n",
      "npv diff: 0.06\n"
     ]
    }
   ],
   "source": [
    "def negative_predictive_value_score(y_true, y_pred, **kwargs):\n",
    "    \"\"\"\n",
    "    NPV is not in scikit-learn, but is the same as PPV but with 0 and 1 swapped. \n",
    "    \"\"\"\n",
    "    return precision_score(y_true, y_pred, pos_label=0, **kwargs)\n",
    "\n",
    "# compute metrics\n",
    "mf = MetricFrame(metrics = \n",
    "                 {'positive predictive value' : precision_score,\n",
    "                  'negative predictive value' : negative_predictive_value_score}, \n",
    "                 y_true=data['two_year_recid'], \n",
    "                 y_pred=data['decile_score_cutoff'], \n",
    "                 sensitive_features=data['race'])\n",
    "display(mf.by_group)\n",
    "\n",
    "# summarize differences\n",
    "for i in mf.difference('between_groups').items():\n",
    "    print(\"%s diff: %.2f\" % i)\n",
    "\n",
    "# we can also define a custom fairness metric for npv (giving the same results as mf.differnece())\n",
    "npv_score_diff = make_derived_metric(metric=negative_predictive_value_score, transform='difference')\n",
    "npvd = npv_score_diff(data['two_year_recid'], \n",
    "                    data['decile_score_cutoff'], \n",
    "                    sensitive_features=data['race'], \n",
    "                    method='between_groups')\n",
    "print(\"npv diff: %.2f\" % npvd)"
   ]
  },
  {
   "cell_type": "code",
   "execution_count": 11,
   "metadata": {
    "tags": []
   },
   "outputs": [
    {
     "data": {
      "image/png": "[encoded data removed]",
      "text/plain": [
       "<Figure size 640x480 with 1 Axes>"
      ]
     },
     "metadata": {},
     "output_type": "display_data"
    }
   ],
   "source": [
    "# normalize predicted scores to from 0 to 1\n",
    "data['decile_score_norm'] = (data['decile_score'] - 1)/9\n",
    "\n",
    "# display calibration curves\n",
    "ax = plt.gca()\n",
    "plt.plot([0, 1], [0, 1], \"k:\", label=\"Perfectly calibrated\")\n",
    "for race in ['Caucasian', 'African-American']:\n",
    "    CalibrationDisplay.from_predictions(y_true=data[data['race']==race]['two_year_recid'], \n",
    "                                        y_prob=data[data['race']==race]['decile_score_norm'],\n",
    "                                        n_bins=10,\n",
    "                                        ax=ax, \n",
    "                                        label=race)\n",
    "plt.show()"
   ]
  },
  {
   "cell_type": "code",
   "execution_count": null,
   "metadata": {},
   "outputs": [],
   "source": []
  }
 ],
 "metadata": {
  "kernelspec": {
   "display_name": "Python 3",
   "language": "python",
   "name": "python3"
  },
  "language_info": {
   "codemirror_mode": {
    "name": "ipython",
    "version": 3
   },
   "file_extension": ".py",
   "mimetype": "text/x-python",
   "name": "python",
   "nbconvert_exporter": "python",
   "pygments_lexer": "ipython3",
   "version": "3.11.7"
  }
 },
 "nbformat": 4,
 "nbformat_minor": 4
}