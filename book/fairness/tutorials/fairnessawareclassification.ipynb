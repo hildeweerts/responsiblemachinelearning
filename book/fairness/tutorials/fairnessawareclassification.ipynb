{
 "cells": [
  {
   "cell_type": "markdown",
   "metadata": {},
   "source": [
    "(tutorial_fairml)=\n",
    "\n",
    "# Fairness-Aware Classification\n",
    "\n",
    "In this tutorial we will explore several fairness-aware machine learning techniques that can be used to enforce fairness constraints of a machine learning model.\n",
    "\n",
    "---\n",
    "\n",
    "**Learning Objectives**. After this tutorial you will be able to:\n",
    "* apply techniques for fairness-aware classification in Python;\n",
    "* examine strengths and limitations of fairness-aware classification techniques;\n",
    "\n",
    "--- \n",
    "\n",
    "```{warning}\n",
    "Although the goal of this tutorial is to showcase fair-ml approaches, **a data scientist's first actions should always include scrutinizing the need for machine learning, the machine learning task formulation, and data collection practices.**  Especially in a sensitive application such as pre-trial risk assesment. Often, enforcing fairness constraints via fairness-aware machine learning does not lead to meaningful mitigation of fairness-related harm.\n",
    "```\n",
    "\n",
    "---\n",
    "\n",
    "## COMPAS: A Pre-Trial Risk Assessment Tool\n",
    "COMPAS is a decision support tool used by courts in the United States to assess the likelihood of a defendant becoming a recidivist; i.e., relapses into criminal behavior. In particular, COMPAS risk scores are used in **pre-trial risk assessment**.\n",
    "\n",
    "```{admonition} What is pre-trial risk assessment in the US judicial system?\n",
    "After somebody has been arrested, it will take some time before they go to trial. The primary goal of pre-trial risk assessment is to determine the likelihood that the defendant will re-appear in court at their trial. Based on the assessment, a judge decides whether a defendent will be detained or released while awaiting trial. In case of release, the judge also decides whether bail is set and for which amount. Bail usually takes the form of either a cash payment or a bond. If the defendant can't afford to pay the bail amount in cash - which can be as high as \\$50,000 - they can contract a bondsmen. For a fee, typically around 10\\% of the bail, the bondsmen will post the defendant's bail.\n",
    "\n",
    "If the defendant can afford neither bail nor a bail bond, they have to prepare for their trial while in jail. [This](https://eu.clarionledger.com/story/opinion/columnists/2020/05/28/cant-afford-bail-woman-describes-experience-mississippi-bail-fund-collective/5257295002/) [is](https://medium.com/dose/bail-is-so-expensive-it-forces-innocent-people-to-plead-guilty-72a3097a2ebe) [difficult](https://facctconference.org/2018/livestream_vh210.html). The time between getting arrested and a bail hearing can take days, weeks, months, or even years. In some cases, the decision is between pleading guilty and going home. Consequently, people who cannot afford bail are much more likely to plead guilty to a crime they did not commit. Clearly, a (false) positive decision of the judge will have a big impact on the defendant's prospects. \n",
    "\n",
    "On the other extreme, false negatives could mean that dangerous individuals are released into society and do not show up for their trial.\n",
    "```\n",
    "\n",
    "Proponents of risk assessment tools argue that they can lead to more efficient, less biased, and more consistent decisions compared to human decision makers. However, concerns have been raised that the scores can replicate historical inequalities.\n",
    "\n",
    "### Propublica's Analysis of COMPAS\n",
    "In May 2016, investigative journalists of Propublica released a critical analysis of COMPAS. **Propublica's assessment: COMPAS wrongly labeled black defendants as future criminals at almost twice the rate as white defendants**, while white defendants were mislabeled as low risk more often than black defendants ([Propublica, 2016](https://www.propublica.org/article/machine-bias-risk-assessments-in-criminal-sentencing)). \n",
    "\n",
    "The analysis of COMPAS is likely one of the most well-known examples of algorithmic bias assessments. Within the machine learning research community, the incident sparked a renewed interest in fairness of machine learning models."
   ]
  },
  {
   "cell_type": "code",
   "execution_count": 1,
   "metadata": {},
   "outputs": [
    {
     "name": "stdout",
     "output_type": "stream",
     "text": [
      "pandas        Tested version: 2.0.3   Your version: 2.0.3\n",
      "numpy         Tested version: 1.24.4  Your version: 1.24.4\n",
      "matplotlib    Tested version: 3.5.3   Your version: 3.5.1\n",
      "scikit-learn  Tested version: 1.3.2   Your version: 1.2.1\n",
      "fairlearn     Tested version: 0.10.0  Your version: 0.10.0\n",
      "torch         Tested version: 1.13.1  Your version: 2.2.1\n"
     ]
    }
   ],
   "source": [
    "# data wrangling\n",
    "import pandas as pd\n",
    "import numpy as np\n",
    "\n",
    "# visualization\n",
    "import matplotlib\n",
    "\n",
    "# other\n",
    "import sklearn\n",
    "import fairlearn\n",
    "import torch\n",
    "\n",
    "# this tutorial has been tested with the following versions\n",
    "print(\"pandas        Tested version: 2.0.3   Your version: %s\" % pd.__version__)\n",
    "print(\"numpy         Tested version: 1.24.4  Your version: %s\" % np.__version__)\n",
    "print(\"matplotlib    Tested version: 3.8.3   Your version: %s\" % matplotlib.__version__)\n",
    "print(\"scikit-learn  Tested version: 1.2.1   Your version: %s\" % sklearn.__version__)\n",
    "print(\"fairlearn     Tested version: 0.10.0  Your version: %s\" % fairlearn.__version__)\n",
    "print(\"torch         Tested version: 2.2.1   Your version: %s\" % torch.__version__)"
   ]
  },
  {
   "cell_type": "code",
   "execution_count": 2,
   "metadata": {
    "tags": []
   },
   "outputs": [],
   "source": [
    "# data wrangling\n",
    "import pandas as pd\n",
    "import numpy as np\n",
    "\n",
    "# visualization\n",
    "import matplotlib.pyplot as plt\n",
    "\n",
    "# scikit-learn\n",
    "from sklearn.model_selection import train_test_split\n",
    "from sklearn.linear_model import LogisticRegression\n",
    "from sklearn.metrics import accuracy_score, roc_curve, RocCurveDisplay\n",
    "\n",
    "# fairlearn\n",
    "from fairlearn.metrics import (\n",
    "    false_positive_rate,\n",
    "    false_negative_rate,\n",
    "    true_positive_rate,\n",
    "    MetricFrame,\n",
    "    equalized_odds_difference,\n",
    ")\n",
    "from fairlearn.postprocessing import ThresholdOptimizer, plot_threshold_optimizer\n",
    "from fairlearn.adversarial import AdversarialFairnessClassifier"
   ]
  },
  {
   "cell_type": "markdown",
   "metadata": {},
   "source": [
    "## Load and Pre-Process Data\n",
    "\n",
    "You can download the data set collected by ProPublica [here](https://github.com/propublica/compas-analysis/blob/master/compas-scores-two-years.csv). As in the previous tutorial, we pre-process the data similar to ProPublica and select all instances related to Caucasian and African-American defendants. As we intend to train a new classifier, we split the data into a training and test set."
   ]
  },
  {
   "cell_type": "code",
   "execution_count": 3,
   "metadata": {
    "jupyter": {
     "source_hidden": true
    },
    "tags": []
   },
   "outputs": [
    {
     "data": {
      "text/html": [
       "<div>\n",
       "<style scoped>\n",
       "    .dataframe tbody tr th:only-of-type {\n",
       "        vertical-align: middle;\n",
       "    }\n",
       "\n",
       "    .dataframe tbody tr th {\n",
       "        vertical-align: top;\n",
       "    }\n",
       "\n",
       "    .dataframe thead th {\n",
       "        text-align: right;\n",
       "    }\n",
       "</style>\n",
       "<table border=\"1\" class=\"dataframe\">\n",
       "  <thead>\n",
       "    <tr style=\"text-align: right;\">\n",
       "      <th></th>\n",
       "      <th>age</th>\n",
       "      <th>priors_count</th>\n",
       "      <th>juv_fel_count</th>\n",
       "      <th>juv_misd_count</th>\n",
       "      <th>juv_other_count</th>\n",
       "      <th>sex_Male</th>\n",
       "    </tr>\n",
       "  </thead>\n",
       "  <tbody>\n",
       "    <tr>\n",
       "      <th>1054</th>\n",
       "      <td>53</td>\n",
       "      <td>2</td>\n",
       "      <td>0</td>\n",
       "      <td>0</td>\n",
       "      <td>0</td>\n",
       "      <td>True</td>\n",
       "    </tr>\n",
       "    <tr>\n",
       "      <th>731</th>\n",
       "      <td>36</td>\n",
       "      <td>4</td>\n",
       "      <td>0</td>\n",
       "      <td>0</td>\n",
       "      <td>0</td>\n",
       "      <td>False</td>\n",
       "    </tr>\n",
       "    <tr>\n",
       "      <th>5827</th>\n",
       "      <td>56</td>\n",
       "      <td>3</td>\n",
       "      <td>0</td>\n",
       "      <td>0</td>\n",
       "      <td>0</td>\n",
       "      <td>False</td>\n",
       "    </tr>\n",
       "    <tr>\n",
       "      <th>44</th>\n",
       "      <td>29</td>\n",
       "      <td>0</td>\n",
       "      <td>0</td>\n",
       "      <td>0</td>\n",
       "      <td>0</td>\n",
       "      <td>True</td>\n",
       "    </tr>\n",
       "    <tr>\n",
       "      <th>4475</th>\n",
       "      <td>27</td>\n",
       "      <td>2</td>\n",
       "      <td>0</td>\n",
       "      <td>0</td>\n",
       "      <td>0</td>\n",
       "      <td>True</td>\n",
       "    </tr>\n",
       "  </tbody>\n",
       "</table>\n",
       "</div>"
      ],
      "text/plain": [
       "      age  priors_count  juv_fel_count  juv_misd_count  juv_other_count  \\\n",
       "1054   53             2              0               0                0   \n",
       "731    36             4              0               0                0   \n",
       "5827   56             3              0               0                0   \n",
       "44     29             0              0               0                0   \n",
       "4475   27             2              0               0                0   \n",
       "\n",
       "      sex_Male  \n",
       "1054      True  \n",
       "731      False  \n",
       "5827     False  \n",
       "44        True  \n",
       "4475      True  "
      ]
     },
     "metadata": {},
     "output_type": "display_data"
    },
    {
     "name": "stdout",
     "output_type": "stream",
     "text": [
      "proportion of positives (train): 0.47\n"
     ]
    }
   ],
   "source": [
    "# load data\n",
    "df = pd.read_csv(\"compas-scores-two-years.csv\")\n",
    "# filter similar to propublica\n",
    "df = df[\n",
    "    (df[\"days_b_screening_arrest\"] <= 30)\n",
    "    & (df[\"days_b_screening_arrest\"] >= -30)\n",
    "    & (df[\"is_recid\"] != -1)\n",
    "    & (df[\"c_charge_degree\"] != \"O\")\n",
    "    & (df[\"score_text\"] != \"N/A\")\n",
    "]\n",
    "# select two largest groups\n",
    "df = df[(df[\"race\"] == \"African-American\") | (df[\"race\"] == \"Caucasian\")]\n",
    "# select columns\n",
    "df = df[\n",
    "    [\n",
    "        \"sex\",\n",
    "        \"age\",\n",
    "        \"race\",\n",
    "        \"priors_count\",\n",
    "        \"juv_fel_count\",\n",
    "        \"juv_misd_count\",\n",
    "        \"juv_other_count\",\n",
    "        \"two_year_recid\",\n",
    "    ]\n",
    "]\n",
    "# convert categorical variables to numerical to make suitable for ML model\n",
    "df = pd.get_dummies(df, drop_first=True)\n",
    "# define X and y\n",
    "X = df.drop(\"two_year_recid\", axis=1)\n",
    "y = df[\"two_year_recid\"]\n",
    "\n",
    "# split the data in train-validation-test sets; use random_state for reproducibility of the results\n",
    "X_train, X_test, y_train, y_test = train_test_split(\n",
    "    X, y, test_size=0.3, random_state=42\n",
    ")\n",
    "X_val, X_test, y_val, y_test = train_test_split(\n",
    "    X_test, y_test, test_size=0.5, random_state=42\n",
    ")\n",
    "\n",
    "# save sensitive features and drop from X\n",
    "sensitive_features_train = X_train[\"race_Caucasian\"].copy()\n",
    "sensitive_features_val = X_val[\"race_Caucasian\"].copy()\n",
    "sensitive_features_test = X_test[\"race_Caucasian\"].copy()\n",
    "X_train = X_train.drop(\"race_Caucasian\", axis=1)\n",
    "X_val = X_val.drop(\"race_Caucasian\", axis=1)\n",
    "X_test = X_test.drop(\"race_Caucasian\", axis=1)\n",
    "\n",
    "# inspect dataset\n",
    "display(X_train.head())\n",
    "# proportion of positives\n",
    "print(\"proportion of positives (train): %.2f\" % y_train.mean())"
   ]
  },
  {
   "cell_type": "markdown",
   "metadata": {},
   "source": [
    "The data now contains the following features:\n",
    "* *age*. The defendant's age on the COMPAS screening date. \n",
    "* *priors_count*. The number of prior charges up to but not including the current offense.\n",
    "* *juv_fel_count*. The number of prior charges for juvenile fellonies up to but not including the current offense.\n",
    "* *juv_misd_count*. The number of prior charges for juvenile misdemeanors up to but not including the current offense.\n",
    "* *juv_other_count*. The number of prior charges for other juvenile offenses up to but not including the current offense.\n",
    "* *sex_Male*. The defendant's sex, measured as US census sex categories (either 1 for *Male* or 0 for *Female*).\n",
    "\n",
    "The proportion of positives in the data set is almost 0.5, which means that the dataset is balanced in terms of positives/negatives. This makes **accuracy** a (somewhat) suitable metric for measuring the overall predictive performance of our models."
   ]
  },
  {
   "cell_type": "markdown",
   "metadata": {},
   "source": [
    "### Equalized Odds\n",
    "In this tutorial, we will attempt to train a **new classifier** for predicting recidivism with similar error rates across racial groups.\n",
    "\n",
    "\n",
    "```{admonition} Equalized Odds\n",
    "**Equalized Odds** holds if, for all values of $y$ and $a$, $$P(\\hat{Y} = y | A = a, Y = y) = P(\\hat{Y} = y | A = a', Y = y)$$ where $\\hat{Y}$ is the output of our model, $Y$ the observed outcome, and $A$ the set of sensitive characteristics.\n",
    "```\n",
    "\n",
    "In other words, the **false positive rate** and **false negative rate** should be equal across groups. As explained before, a false positive prediction in pre-trial risk assessment can have large consequences for the involved defendant, as they may have to await trial in jail. This may even result in the defendant pleading guilty to a crime they did not commit. On the other extreme, false negatives could mean that dangerous individuals are released into society."
   ]
  },
  {
   "cell_type": "code",
   "execution_count": 4,
   "metadata": {
    "tags": []
   },
   "outputs": [],
   "source": [
    "def score(\n",
    "    y_train,\n",
    "    y_train_pred,\n",
    "    y_val,\n",
    "    y_val_pred,\n",
    "    sensitive_features_train,\n",
    "    sensitive_features_val,\n",
    "    metrics={\"accuracy\": accuracy_score, \"fpr\": false_positive_rate, \"fnr\": false_negative_rate,},\n",
    "):\n",
    "    \"\"\"\n",
    "    Helper function to evaluate classifiers without too much repetition of code.\n",
    "    \"\"\"\n",
    "\n",
    "    # training set\n",
    "    mf_train = MetricFrame(\n",
    "        metrics=metrics,\n",
    "        y_true=y_train,\n",
    "        y_pred=y_train_pred,\n",
    "        sensitive_features=sensitive_features_train,\n",
    "    )\n",
    "\n",
    "    # validation set\n",
    "    mf_val = MetricFrame(\n",
    "        metrics=metrics,\n",
    "        y_true=y_val,\n",
    "        y_pred=y_val_pred,\n",
    "        sensitive_features=sensitive_features_val,\n",
    "    )\n",
    "\n",
    "    # display results\n",
    "    display(\n",
    "        pd.concat(\n",
    "            [mf_train.by_group, mf_val.by_group], keys=[\"train\", \"validation\"]\n",
    "        ).unstack(level=0)\n",
    "    )\n",
    "\n",
    "    # compute metrics\n",
    "    print(\n",
    "        \"equalized odds difference (validation): %.2f\"\n",
    "        % equalized_odds_difference(\n",
    "            y_true=y_val,\n",
    "            y_pred=y_val_pred,\n",
    "            sensitive_features=sensitive_features_val,\n",
    "        )\n",
    "    )\n",
    "    print(\"accuracy (validation): %.2f\" % accuracy_score(y_true=y_val, y_pred=y_val_pred))\n",
    "    return"
   ]
  },
  {
   "cell_type": "markdown",
   "metadata": {},
   "source": [
    "## Classification without Fairness Constraints\n",
    "\n",
    "First, let's train a simple logistic regression classifier on the data and see how it performs on the validation set."
   ]
  },
  {
   "cell_type": "code",
   "execution_count": 5,
   "metadata": {
    "jupyter": {
     "source_hidden": true
    },
    "tags": []
   },
   "outputs": [
    {
     "data": {
      "text/html": [
       "<div>\n",
       "<style scoped>\n",
       "    .dataframe tbody tr th:only-of-type {\n",
       "        vertical-align: middle;\n",
       "    }\n",
       "\n",
       "    .dataframe tbody tr th {\n",
       "        vertical-align: top;\n",
       "    }\n",
       "\n",
       "    .dataframe thead tr th {\n",
       "        text-align: left;\n",
       "    }\n",
       "\n",
       "    .dataframe thead tr:last-of-type th {\n",
       "        text-align: right;\n",
       "    }\n",
       "</style>\n",
       "<table border=\"1\" class=\"dataframe\">\n",
       "  <thead>\n",
       "    <tr>\n",
       "      <th></th>\n",
       "      <th colspan=\"2\" halign=\"left\">accuracy</th>\n",
       "      <th colspan=\"2\" halign=\"left\">fpr</th>\n",
       "      <th colspan=\"2\" halign=\"left\">fnr</th>\n",
       "    </tr>\n",
       "    <tr>\n",
       "      <th></th>\n",
       "      <th>train</th>\n",
       "      <th>validation</th>\n",
       "      <th>train</th>\n",
       "      <th>validation</th>\n",
       "      <th>train</th>\n",
       "      <th>validation</th>\n",
       "    </tr>\n",
       "    <tr>\n",
       "      <th>race_Caucasian</th>\n",
       "      <th></th>\n",
       "      <th></th>\n",
       "      <th></th>\n",
       "      <th></th>\n",
       "      <th></th>\n",
       "      <th></th>\n",
       "    </tr>\n",
       "  </thead>\n",
       "  <tbody>\n",
       "    <tr>\n",
       "      <th>False</th>\n",
       "      <td>0.682209</td>\n",
       "      <td>0.659878</td>\n",
       "      <td>0.288462</td>\n",
       "      <td>0.275000</td>\n",
       "      <td>0.343884</td>\n",
       "      <td>0.402390</td>\n",
       "    </tr>\n",
       "    <tr>\n",
       "      <th>True</th>\n",
       "      <td>0.670707</td>\n",
       "      <td>0.644518</td>\n",
       "      <td>0.151214</td>\n",
       "      <td>0.151163</td>\n",
       "      <td>0.607945</td>\n",
       "      <td>0.627907</td>\n",
       "    </tr>\n",
       "  </tbody>\n",
       "</table>\n",
       "</div>"
      ],
      "text/plain": [
       "                accuracy                  fpr                  fnr           \n",
       "                   train validation     train validation     train validation\n",
       "race_Caucasian                                                               \n",
       "False           0.682209   0.659878  0.288462   0.275000  0.343884   0.402390\n",
       "True            0.670707   0.644518  0.151214   0.151163  0.607945   0.627907"
      ]
     },
     "metadata": {},
     "output_type": "display_data"
    },
    {
     "name": "stdout",
     "output_type": "stream",
     "text": [
      "equalized odds difference (validation): 0.23\n",
      "accuracy (validation): 0.65\n"
     ]
    }
   ],
   "source": [
    "# Train simple logistic regression model\n",
    "lr = LogisticRegression()\n",
    "lr.fit(X_train, y_train)\n",
    "\n",
    "# score\n",
    "score(\n",
    "    y_train,\n",
    "    lr.predict(X_train),\n",
    "    y_val,\n",
    "    lr.predict(X_val),\n",
    "    sensitive_features_train,\n",
    "    sensitive_features_val,\n",
    ")"
   ]
  },
  {
   "cell_type": "markdown",
   "metadata": {},
   "source": [
    "The validation set accuracy of our classifier is approximately the same for African-Americans (0.66) and Caucasians (0.64). However, the FNR and FPR differ substantially, indicating that African-Americans are more often falsely predicted to recidivise, whereas Caucasians are more often falsely predicted to *not* recidivise. This disparity is reflected in the computed equalized odds difference (0.23)."
   ]
  },
  {
   "cell_type": "markdown",
   "metadata": {},
   "source": [
    "## Fairness-Aware Machine Learning\n",
    "There exist several technical approaches to explicitly incorporate fairness constraints in a machine learning model. We can roughly distinguish three types of approaches:\n",
    "* **Pre-processing** algorithms adjust training data directly to mitigate downstream model unfairness. \n",
    "* **Constrained learning** approaches incorporate fairness constraints into the machine learning process, either by directly incorporating a constraint in the loss function or by learning an ensemble of predictors.\n",
    "* **Post-processing** techniques make adjustments to existing machine learning models to satisfy fairness constraints, either by adjusting the parameters of a trained model directly or by post-processing the predictions of the model."
   ]
  },
  {
   "cell_type": "markdown",
   "metadata": {},
   "source": [
    "## Manually Post-Processing the Decision Threshold\n",
    "In our previous model, we have simply applied the default decision threshold of 0.5 for both African-Americans and Caucasians. One way to account for differences in FPR and FNR is to **choose a separate threshold for each sensitive group**. Note that this implies that **different groups are held to a different standard**.\n",
    "\n",
    "We will now choose a new decision threshold for African-Americans to ensure that the FPR of African-Americans is equal to the FPR of Caucasians. In our previous model, the FPR in the training set is approximately 0.15 for Caucasians. We use this as our target FPR for African-American defendants."
   ]
  },
  {
   "cell_type": "code",
   "execution_count": 6,
   "metadata": {
    "tags": []
   },
   "outputs": [
    {
     "name": "stdout",
     "output_type": "stream",
     "text": [
      "New decision threshold for African-Americans: 0.59\n"
     ]
    }
   ],
   "source": [
    "# make scoring predictions\n",
    "y_train_score_lr = pd.Series(lr.predict_proba(X_train)[:, 1], index=X_train.index)\n",
    "y_val_score_lr = pd.Series(lr.predict_proba(X_val)[:, 1], index=X_val.index)\n",
    "\n",
    "# get indices for grouping\n",
    "idx_AA_train = sensitive_features_train[sensitive_features_train==0].index\n",
    "\n",
    "# get new thresholds based on ROC curve for AA\n",
    "fpr_AA_train, tpr_AA_train, thresholds_AA_train = roc_curve(\n",
    "    y_true=y_train[idx_AA_train], y_score=y_train_score_lr[idx_AA_train]\n",
    ")\n",
    "new_thr = thresholds_AA_train[(np.abs(fpr_AA_train - 0.15)).argmin()]\n",
    "\n",
    "print(\"New decision threshold for African-Americans: %.2f\" % new_thr)"
   ]
  },
  {
   "cell_type": "markdown",
   "metadata": {},
   "source": [
    "Based on the validation data, we have computed that a decision threshold of 0.59 would lead to a FPR of approximately 0.15."
   ]
  },
  {
   "cell_type": "code",
   "execution_count": 7,
   "metadata": {
    "jupyter": {
     "source_hidden": true
    },
    "tags": []
   },
   "outputs": [
    {
     "data": {
      "image/png": "[encoded data removed]",
      "text/plain": [
       "<Figure size 800x600 with 1 Axes>"
      ]
     },
     "metadata": {},
     "output_type": "display_data"
    }
   ],
   "source": [
    "# get remaining indices for grouping\n",
    "idx_AA_val = sensitive_features_val[sensitive_features_val==0].index\n",
    "idx_C_val = sensitive_features_val[sensitive_features_val==1].index\n",
    "idx_C_train = sensitive_features_train[sensitive_features_train==1].index\n",
    "\n",
    "# plot ROC curves\n",
    "fig = plt.figure(figsize=(8, 6))\n",
    "ax = plt.gca()\n",
    "\n",
    "RocCurveDisplay.from_estimator(\n",
    "    lr,\n",
    "    X_val.loc[idx_AA_val, :],\n",
    "    y_val.loc[idx_AA_val],\n",
    "    name=\"African-Americans\",\n",
    "    ax=ax,\n",
    ")\n",
    "\n",
    "RocCurveDisplay.from_estimator(\n",
    "    lr,\n",
    "    X_val.loc[idx_C_val, :],\n",
    "    y_val.loc[idx_C_val],\n",
    "    name=\"Caucasian\",\n",
    "    ax=ax,\n",
    ")\n",
    "\n",
    "# add thresholds\n",
    "plt.scatter(\n",
    "    false_positive_rate(\n",
    "        y_true=y_val[idx_AA_val], y_pred=y_val_score_lr[idx_AA_val] >= 0.5\n",
    "    ),\n",
    "    true_positive_rate(\n",
    "        y_true=y_val[idx_AA_val], y_pred=y_val_score_lr[idx_AA_val] >= 0.5\n",
    "    ),\n",
    "    label=\"Threshold 0.50 (African-American)\",\n",
    ")\n",
    "plt.scatter(\n",
    "    false_positive_rate(\n",
    "        y_true=y_val[idx_C_val], y_pred=y_val_score_lr[idx_C_val] >= 0.5\n",
    "    ),\n",
    "    true_positive_rate(\n",
    "        y_true=y_val[idx_C_val], y_pred=y_val_score_lr[idx_C_val] >= 0.5\n",
    "    ),\n",
    "    label=\"Threshold 0.50 (Caucasian)\",\n",
    ")\n",
    "\n",
    "plt.scatter(\n",
    "    false_positive_rate(\n",
    "        y_true=y_val[idx_AA_val], y_pred=y_val_score_lr[idx_AA_val] >= new_thr\n",
    "    ),\n",
    "    true_positive_rate(\n",
    "        y_true=y_val[idx_AA_val], y_pred=y_val_score_lr[idx_AA_val] >= new_thr\n",
    "    ),\n",
    "    label=\"Threshold %.2f (African-American)\" % new_thr,\n",
    ")\n",
    "\n",
    "plt.legend(loc=\"lower right\")\n",
    "plt.show()"
   ]
  },
  {
   "cell_type": "markdown",
   "metadata": {},
   "source": [
    "This plot visualizes the results of our manual selection approach on the test data. We have plotted the ROC curve for each racial group separately. The original decision threshold of 0.5 resulted in higher TPR and FPR for African-Americans. By choosing a different threshold for this group, we end up on a point on the ROC curve that is much closer to the FPR and TPR of Caucasians.\n",
    "\n",
    "Now let's evaluate the performance of the new group-specific decision thresholds on the validation set."
   ]
  },
  {
   "cell_type": "code",
   "execution_count": 8,
   "metadata": {
    "tags": []
   },
   "outputs": [
    {
     "data": {
      "text/html": [
       "<div>\n",
       "<style scoped>\n",
       "    .dataframe tbody tr th:only-of-type {\n",
       "        vertical-align: middle;\n",
       "    }\n",
       "\n",
       "    .dataframe tbody tr th {\n",
       "        vertical-align: top;\n",
       "    }\n",
       "\n",
       "    .dataframe thead tr th {\n",
       "        text-align: left;\n",
       "    }\n",
       "\n",
       "    .dataframe thead tr:last-of-type th {\n",
       "        text-align: right;\n",
       "    }\n",
       "</style>\n",
       "<table border=\"1\" class=\"dataframe\">\n",
       "  <thead>\n",
       "    <tr>\n",
       "      <th></th>\n",
       "      <th colspan=\"2\" halign=\"left\">accuracy</th>\n",
       "      <th colspan=\"2\" halign=\"left\">fpr</th>\n",
       "      <th colspan=\"2\" halign=\"left\">fnr</th>\n",
       "    </tr>\n",
       "    <tr>\n",
       "      <th></th>\n",
       "      <th>train</th>\n",
       "      <th>validation</th>\n",
       "      <th>train</th>\n",
       "      <th>validation</th>\n",
       "      <th>train</th>\n",
       "      <th>validation</th>\n",
       "    </tr>\n",
       "    <tr>\n",
       "      <th>race_Caucasian</th>\n",
       "      <th></th>\n",
       "      <th></th>\n",
       "      <th></th>\n",
       "      <th></th>\n",
       "      <th></th>\n",
       "      <th></th>\n",
       "    </tr>\n",
       "  </thead>\n",
       "  <tbody>\n",
       "    <tr>\n",
       "      <th>False</th>\n",
       "      <td>0.639203</td>\n",
       "      <td>0.625255</td>\n",
       "      <td>0.149038</td>\n",
       "      <td>0.137500</td>\n",
       "      <td>0.549187</td>\n",
       "      <td>0.601594</td>\n",
       "    </tr>\n",
       "    <tr>\n",
       "      <th>True</th>\n",
       "      <td>0.670707</td>\n",
       "      <td>0.644518</td>\n",
       "      <td>0.151214</td>\n",
       "      <td>0.151163</td>\n",
       "      <td>0.607945</td>\n",
       "      <td>0.627907</td>\n",
       "    </tr>\n",
       "  </tbody>\n",
       "</table>\n",
       "</div>"
      ],
      "text/plain": [
       "                accuracy                  fpr                  fnr           \n",
       "                   train validation     train validation     train validation\n",
       "race_Caucasian                                                               \n",
       "False           0.639203   0.625255  0.149038   0.137500  0.549187   0.601594\n",
       "True            0.670707   0.644518  0.151214   0.151163  0.607945   0.627907"
      ]
     },
     "metadata": {},
     "output_type": "display_data"
    },
    {
     "name": "stdout",
     "output_type": "stream",
     "text": [
      "equalized odds difference (validation): 0.03\n",
      "accuracy (validation): 0.63\n"
     ]
    }
   ],
   "source": [
    "# make new predictions at two separate decision thresholds\n",
    "y_train_pred_lr_m = pd.concat(\n",
    "    [y_train_score_lr[idx_AA_train] >= new_thr, y_train_score_lr[idx_C_train] >= 0.5]\n",
    ").reindex(X_train.index)\n",
    "\n",
    "y_val_pred_lr_m = pd.concat(\n",
    "    [y_val_score_lr[idx_AA_val] >= new_thr, y_val_score_lr[idx_C_val] >= 0.5]\n",
    ").reindex(X_val.index)\n",
    "\n",
    "# score\n",
    "score(\n",
    "    y_train,\n",
    "    y_train_pred_lr_m,\n",
    "    y_val,\n",
    "    y_val_pred_lr_m,\n",
    "    sensitive_features_train,\n",
    "    sensitive_features_val,\n",
    ")"
   ]
  },
  {
   "cell_type": "markdown",
   "metadata": {},
   "source": [
    "As can be seen from this table, we have been able to substantially reduce equalized odds difference (decreased from 0.23 to 0.03), with similar overall accuracy (decreased from 0.65 to 0.63)."
   ]
  },
  {
   "cell_type": "markdown",
   "metadata": {
    "tags": []
   },
   "source": [
    "## Randomized Decision Thresholds Using `ThresholdOptimizer` \n",
    "In addition to manual optimization, it is also possible to automatically determine group-specific decision thresholds. The class `fairlearn.postprocessing.ThresholdOptimizer` is based on the algorithm introduced by [Hardt. et al (2016)](https://papers.nips.cc/paper/2016/hash/9d2682367c3935defcb1f9e247a97c0d-Abstract.html). \n",
    "\n",
    "```{admonition} Group-Specific Randomized Thresholds\n",
    "Equalized odds requires us to set the false positive rate and true positive rate equal across groups. Through group-specific decision thresholds, we can take any point on the group-specific ROC curve, which increases allows us to get a more similar FPR and FNR for both groups. However, group-specific thresholds still limit us to the (FPR, TPR) combinations that lie on the intersection of the group-specific ROC curves. In some cases, the group-specific ROC curves may not intersect or represent a poor trade-off between false positives and false negatives. To further increase the solution space, the `ThresholdOptimizer` allows the group-specific decision thresholds to be **randomized**: we randomly pick between two distinct thresholds.\n",
    "\n",
    "The probability $p_a$ with which we choose one threshold over the other determines which (fpr,tpr) combination in the ROC space we end up with. By carefully selecting the decision thresholds and probabilities $p_a$, we can end up with a combination that is also on the group-specific ROC-curve of the worst-off group, satisfying equalized odds. The point on the ROC curve at which randomization is aimed, is optimized such that the disparity is the smallest, while predictive performance is the highest.\n",
    "\n",
    "Note that using this algorithm has the following implications:\n",
    "* The predictive performance for each group is decreased until it is equal to that of the worst-off group.\n",
    "* Due to randomization, two individuals with the exact same characteristics may receive a different classification.\n",
    "```\n",
    "\n",
    "The `ThresholdOptimizer` class has the following parameters: \n",
    "* `estimator`: the (fitted) classifier\n",
    "* `constraints` : the fairness constraint for which we want to optimize, we can choose between `'demographic_parity'`, `'equalized odds'`, `'false_positive_rate_parity'` `'false_negative_rate_parity'`, `'true_positive_parity'` and `'true_negative_parity'`.\n",
    "* `objective` : the predictive performance objective under which threshold optimization is performed. Not all objectives are allowed for all types of constraints. Possible inputs are: `'accuracy_score'`, `'balanced_accuracy_score'` (for all constraint types) and `'selection_rate'`, `'true_positive_rate'`, `'true_negative_rate'` (for all constraint types except `'equalized odds'`).\n",
    "* `grid_size` : the values of the constraint metric are discretized according to the grid of the specified size over the interval [0,1]. The optimization is performed with respect to the constraints achieving those values. In case of `'equalized_odds'` the constraint metric is the false positive rate.\n",
    "* `prefit` : if `True`, avoid refitting the given estimator.\n",
    "* `predict_method` : defines which method of the estimator is used to get the output values.\n",
    "\n",
    "The methods of the `ThresholdOptimizer` are similar to the familiar scikit-learn API, with the addition of `sensitive_features`. This must be is a list-like object (e.g., a numpy array or pandas series) that represents sensitive group-membership.\n",
    "* `fit(X, y, *, sensitive_features, **kwargs)` (any `**kwargs` will be passed to the `fit()` method of the `estimator`)\n",
    "* `predict(X, *, sensitive_features, random_state=None)` (`random_state` can be used to get reproducible results).\n",
    "\n",
    "Let's see how this algorithm does on our existing logistic regression classifier. "
   ]
  },
  {
   "cell_type": "code",
   "execution_count": 9,
   "metadata": {},
   "outputs": [
    {
     "data": {
      "text/html": [
       "<div>\n",
       "<style scoped>\n",
       "    .dataframe tbody tr th:only-of-type {\n",
       "        vertical-align: middle;\n",
       "    }\n",
       "\n",
       "    .dataframe tbody tr th {\n",
       "        vertical-align: top;\n",
       "    }\n",
       "\n",
       "    .dataframe thead tr th {\n",
       "        text-align: left;\n",
       "    }\n",
       "\n",
       "    .dataframe thead tr:last-of-type th {\n",
       "        text-align: right;\n",
       "    }\n",
       "</style>\n",
       "<table border=\"1\" class=\"dataframe\">\n",
       "  <thead>\n",
       "    <tr>\n",
       "      <th></th>\n",
       "      <th colspan=\"2\" halign=\"left\">accuracy</th>\n",
       "      <th colspan=\"2\" halign=\"left\">fpr</th>\n",
       "      <th colspan=\"2\" halign=\"left\">fnr</th>\n",
       "    </tr>\n",
       "    <tr>\n",
       "      <th></th>\n",
       "      <th>train</th>\n",
       "      <th>validation</th>\n",
       "      <th>train</th>\n",
       "      <th>validation</th>\n",
       "      <th>train</th>\n",
       "      <th>validation</th>\n",
       "    </tr>\n",
       "    <tr>\n",
       "      <th>race_Caucasian</th>\n",
       "      <th></th>\n",
       "      <th></th>\n",
       "      <th></th>\n",
       "      <th></th>\n",
       "      <th></th>\n",
       "      <th></th>\n",
       "    </tr>\n",
       "  </thead>\n",
       "  <tbody>\n",
       "    <tr>\n",
       "      <th>False</th>\n",
       "      <td>0.626528</td>\n",
       "      <td>0.596741</td>\n",
       "      <td>0.167308</td>\n",
       "      <td>0.162500</td>\n",
       "      <td>0.556886</td>\n",
       "      <td>0.633466</td>\n",
       "    </tr>\n",
       "    <tr>\n",
       "      <th>True</th>\n",
       "      <td>0.678788</td>\n",
       "      <td>0.664452</td>\n",
       "      <td>0.174393</td>\n",
       "      <td>0.174419</td>\n",
       "      <td>0.550950</td>\n",
       "      <td>0.550388</td>\n",
       "    </tr>\n",
       "  </tbody>\n",
       "</table>\n",
       "</div>"
      ],
      "text/plain": [
       "                accuracy                  fpr                  fnr           \n",
       "                   train validation     train validation     train validation\n",
       "race_Caucasian                                                               \n",
       "False           0.626528   0.596741  0.167308   0.162500  0.556886   0.633466\n",
       "True            0.678788   0.664452  0.174393   0.174419  0.550950   0.550388"
      ]
     },
     "metadata": {},
     "output_type": "display_data"
    },
    {
     "name": "stdout",
     "output_type": "stream",
     "text": [
      "equalized odds difference (validation): 0.08\n",
      "accuracy (validation): 0.62\n"
     ]
    }
   ],
   "source": [
    "# train thresholdoptimizer\n",
    "to = ThresholdOptimizer(\n",
    "    estimator=lr,\n",
    "    constraints='equalized_odds',\n",
    "    predict_method='predict_proba',\n",
    "    objective='accuracy_score',\n",
    ")\n",
    "to.fit(X_train, y_train, sensitive_features=sensitive_features_train)\n",
    "\n",
    "# score\n",
    "score(\n",
    "    y_train,\n",
    "    to.predict(X_train, sensitive_features=sensitive_features_train, random_state=0),\n",
    "    y_val,\n",
    "    to.predict(X_val, sensitive_features=sensitive_features_val, random_state=0),\n",
    "    sensitive_features_train,\n",
    "    sensitive_features_val,\n",
    ")"
   ]
  },
  {
   "cell_type": "markdown",
   "metadata": {},
   "source": [
    "While the ThresholdOptimizer works better on the training data compared to manual selection, it performs worse on the validation set. We end up roughly at the same spot on the ROC-curve. The FPR is slightly higher compared to our nanual optimization.\n",
    "\n",
    "To better understand the results of the `ThresholdOptimizer`, we can visualize the solution using `fairlearn.postprocessing.plot_threshold_optimizer()`. The plot shows the group-specific ROC curves and visualizes their overlap. As we've seen before, the group-specific ROC curves hardly interesect, apart from trivial end-points. The solution found in the optimization is slightly different from our manual group-specific threshold."
   ]
  },
  {
   "cell_type": "code",
   "execution_count": 10,
   "metadata": {
    "tags": []
   },
   "outputs": [
    {
     "name": "stdout",
     "output_type": "stream",
     "text": [
      "InterpolatedThresholder(estimator=LogisticRegression(),\n",
      "                        interpolation_dict={False: {'operation0': [>0.5855255254759701],\n",
      "                                                    'operation1': [>0.5318328255966378],\n",
      "                                                    'p0': 0.6666666666666665,\n",
      "                                                    'p1': 0.3333333333333335,\n",
      "                                                    'p_ignore': 0.16258623097366856,\n",
      "                                                    'prediction_constant': 0.17500000000000002},\n",
      "                                            True: {'operation0': [>0.48339732595857243],\n",
      "                                                   'operation1': [>0.454107836792059],\n",
      "                                                   'p0': 0.9915384615384614,\n",
      "                                                   'p1': 0.008461538461538631,\n",
      "                                                   'p_ignore': 0.0,\n",
      "                                                   'prediction_constant': 0.17500000000000002}},\n",
      "                        predict_method='predict_proba', prefit=True)\n"
     ]
    },
    {
     "ename": "ValueError",
     "evalue": "Multi-dimensional indexing (e.g. `obj[:, None]`) is no longer supported. Convert to a numpy array before indexing instead.",
     "output_type": "error",
     "traceback": [
      "\u001b[0;31m---------------------------------------------------------------------------\u001b[0m",
      "\u001b[0;31mValueError\u001b[0m                                Traceback (most recent call last)",
      "Cell \u001b[0;32mIn[10], line 5\u001b[0m\n\u001b[1;32m      2\u001b[0m \u001b[38;5;28mprint\u001b[39m(to\u001b[38;5;241m.\u001b[39minterpolated_thresholder_)\n\u001b[1;32m      4\u001b[0m \u001b[38;5;66;03m# plot solution\u001b[39;00m\n\u001b[0;32m----> 5\u001b[0m \u001b[43mplot_threshold_optimizer\u001b[49m\u001b[43m(\u001b[49m\u001b[43mto\u001b[49m\u001b[43m)\u001b[49m\n",
      "File \u001b[0;32m~/opt/anaconda3/envs/booktest/lib/python3.11/site-packages/fairlearn/postprocessing/_plotting.py:103\u001b[0m, in \u001b[0;36mplot_threshold_optimizer\u001b[0;34m(threshold_optimizer, ax, show_plot)\u001b[0m\n\u001b[1;32m    100\u001b[0m     ax \u001b[38;5;241m=\u001b[39m plt\u001b[38;5;241m.\u001b[39maxes()\n\u001b[1;32m    102\u001b[0m \u001b[38;5;28;01mfor\u001b[39;00m sensitive_feature_value \u001b[38;5;129;01min\u001b[39;00m threshold_optimizer\u001b[38;5;241m.\u001b[39m_tradeoff_curve\u001b[38;5;241m.\u001b[39mkeys():\n\u001b[0;32m--> 103\u001b[0m     \u001b[43m_plot_curve\u001b[49m\u001b[43m(\u001b[49m\n\u001b[1;32m    104\u001b[0m \u001b[43m        \u001b[49m\u001b[43max\u001b[49m\u001b[43m,\u001b[49m\n\u001b[1;32m    105\u001b[0m \u001b[43m        \u001b[49m\u001b[43msensitive_feature_value\u001b[49m\u001b[43m,\u001b[49m\n\u001b[1;32m    106\u001b[0m \u001b[43m        \u001b[49m\u001b[38;5;124;43m\"\u001b[39;49m\u001b[38;5;124;43mx\u001b[39;49m\u001b[38;5;124;43m\"\u001b[39;49m\u001b[43m,\u001b[49m\n\u001b[1;32m    107\u001b[0m \u001b[43m        \u001b[49m\u001b[38;5;124;43m\"\u001b[39;49m\u001b[38;5;124;43my\u001b[39;49m\u001b[38;5;124;43m\"\u001b[39;49m\u001b[43m,\u001b[49m\n\u001b[1;32m    108\u001b[0m \u001b[43m        \u001b[49m\u001b[43mthreshold_optimizer\u001b[49m\u001b[38;5;241;43m.\u001b[39;49m\u001b[43m_tradeoff_curve\u001b[49m\u001b[43m[\u001b[49m\u001b[43msensitive_feature_value\u001b[49m\u001b[43m]\u001b[49m\u001b[43m,\u001b[49m\n\u001b[1;32m    109\u001b[0m \u001b[43m    \u001b[49m\u001b[43m)\u001b[49m\n\u001b[1;32m    111\u001b[0m \u001b[38;5;28;01mif\u001b[39;00m threshold_optimizer\u001b[38;5;241m.\u001b[39mconstraints \u001b[38;5;241m==\u001b[39m \u001b[38;5;124m\"\u001b[39m\u001b[38;5;124mequalized_odds\u001b[39m\u001b[38;5;124m\"\u001b[39m:\n\u001b[1;32m    112\u001b[0m     _plot_overlap(ax, threshold_optimizer\u001b[38;5;241m.\u001b[39m_x_grid, threshold_optimizer\u001b[38;5;241m.\u001b[39m_y_min)\n",
      "File \u001b[0;32m~/opt/anaconda3/envs/booktest/lib/python3.11/site-packages/fairlearn/postprocessing/_plotting.py:55\u001b[0m, in \u001b[0;36m_plot_curve\u001b[0;34m(ax, sensitive_feature, x_col, y_col, points)\u001b[0m\n\u001b[1;32m     53\u001b[0m \u001b[38;5;250m\u001b[39m\u001b[38;5;124;03m\"\"\"Plot the given curve with labels.\"\"\"\u001b[39;00m\n\u001b[1;32m     54\u001b[0m color \u001b[38;5;241m=\u001b[39m _get_debug_color(sensitive_feature)\n\u001b[0;32m---> 55\u001b[0m \u001b[43max\u001b[49m\u001b[38;5;241;43m.\u001b[39;49m\u001b[43mplot\u001b[49m\u001b[43m(\u001b[49m\n\u001b[1;32m     56\u001b[0m \u001b[43m    \u001b[49m\u001b[43mpoints\u001b[49m\u001b[43m[\u001b[49m\u001b[43mx_col\u001b[49m\u001b[43m]\u001b[49m\u001b[43m,\u001b[49m\n\u001b[1;32m     57\u001b[0m \u001b[43m    \u001b[49m\u001b[43mpoints\u001b[49m\u001b[43m[\u001b[49m\u001b[43my_col\u001b[49m\u001b[43m]\u001b[49m\u001b[43m,\u001b[49m\n\u001b[1;32m     58\u001b[0m \u001b[43m    \u001b[49m\u001b[43mc\u001b[49m\u001b[38;5;241;43m=\u001b[39;49m\u001b[43mcolor\u001b[49m\u001b[43m,\u001b[49m\n\u001b[1;32m     59\u001b[0m \u001b[43m    \u001b[49m\u001b[43mls\u001b[49m\u001b[38;5;241;43m=\u001b[39;49m\u001b[38;5;124;43m\"\u001b[39;49m\u001b[38;5;124;43m-\u001b[39;49m\u001b[38;5;124;43m\"\u001b[39;49m\u001b[43m,\u001b[49m\n\u001b[1;32m     60\u001b[0m \u001b[43m    \u001b[49m\u001b[43mlw\u001b[49m\u001b[38;5;241;43m=\u001b[39;49m\u001b[38;5;241;43m2.0\u001b[39;49m\u001b[43m,\u001b[49m\n\u001b[1;32m     61\u001b[0m \u001b[43m    \u001b[49m\u001b[43mlabel\u001b[49m\u001b[38;5;241;43m=\u001b[39;49m\u001b[38;5;124;43m\"\u001b[39;49m\u001b[38;5;124;43msensitive feature = \u001b[39;49m\u001b[38;5;124;43m\"\u001b[39;49m\u001b[43m \u001b[49m\u001b[38;5;241;43m+\u001b[39;49m\u001b[43m \u001b[49m\u001b[38;5;28;43mstr\u001b[39;49m\u001b[43m(\u001b[49m\u001b[43msensitive_feature\u001b[49m\u001b[43m)\u001b[49m\u001b[43m,\u001b[49m\n\u001b[1;32m     62\u001b[0m \u001b[43m\u001b[49m\u001b[43m)\u001b[49m\n",
      "File \u001b[0;32m~/opt/anaconda3/envs/booktest/lib/python3.11/site-packages/matplotlib/axes/_axes.py:1632\u001b[0m, in \u001b[0;36mAxes.plot\u001b[0;34m(self, scalex, scaley, data, *args, **kwargs)\u001b[0m\n\u001b[1;32m   1390\u001b[0m \u001b[38;5;250m\u001b[39m\u001b[38;5;124;03m\"\"\"\u001b[39;00m\n\u001b[1;32m   1391\u001b[0m \u001b[38;5;124;03mPlot y versus x as lines and/or markers.\u001b[39;00m\n\u001b[1;32m   1392\u001b[0m \n\u001b[0;32m   (...)\u001b[0m\n\u001b[1;32m   1629\u001b[0m \u001b[38;5;124;03m(``'green'``) or hex strings (``'#008000'``).\u001b[39;00m\n\u001b[1;32m   1630\u001b[0m \u001b[38;5;124;03m\"\"\"\u001b[39;00m\n\u001b[1;32m   1631\u001b[0m kwargs \u001b[38;5;241m=\u001b[39m cbook\u001b[38;5;241m.\u001b[39mnormalize_kwargs(kwargs, mlines\u001b[38;5;241m.\u001b[39mLine2D)\n\u001b[0;32m-> 1632\u001b[0m lines \u001b[38;5;241m=\u001b[39m [\u001b[38;5;241m*\u001b[39m\u001b[38;5;28mself\u001b[39m\u001b[38;5;241m.\u001b[39m_get_lines(\u001b[38;5;241m*\u001b[39margs, data\u001b[38;5;241m=\u001b[39mdata, \u001b[38;5;241m*\u001b[39m\u001b[38;5;241m*\u001b[39mkwargs)]\n\u001b[1;32m   1633\u001b[0m \u001b[38;5;28;01mfor\u001b[39;00m line \u001b[38;5;129;01min\u001b[39;00m lines:\n\u001b[1;32m   1634\u001b[0m     \u001b[38;5;28mself\u001b[39m\u001b[38;5;241m.\u001b[39madd_line(line)\n",
      "File \u001b[0;32m~/opt/anaconda3/envs/booktest/lib/python3.11/site-packages/matplotlib/axes/_base.py:312\u001b[0m, in \u001b[0;36m_process_plot_var_args.__call__\u001b[0;34m(self, data, *args, **kwargs)\u001b[0m\n\u001b[1;32m    310\u001b[0m     this \u001b[38;5;241m+\u001b[39m\u001b[38;5;241m=\u001b[39m args[\u001b[38;5;241m0\u001b[39m],\n\u001b[1;32m    311\u001b[0m     args \u001b[38;5;241m=\u001b[39m args[\u001b[38;5;241m1\u001b[39m:]\n\u001b[0;32m--> 312\u001b[0m \u001b[38;5;28;01myield from\u001b[39;00m \u001b[38;5;28;43mself\u001b[39;49m\u001b[38;5;241;43m.\u001b[39;49m\u001b[43m_plot_args\u001b[49m\u001b[43m(\u001b[49m\u001b[43mthis\u001b[49m\u001b[43m,\u001b[49m\u001b[43m \u001b[49m\u001b[43mkwargs\u001b[49m\u001b[43m)\u001b[49m\n",
      "File \u001b[0;32m~/opt/anaconda3/envs/booktest/lib/python3.11/site-packages/matplotlib/axes/_base.py:487\u001b[0m, in \u001b[0;36m_process_plot_var_args._plot_args\u001b[0;34m(self, tup, kwargs, return_kwargs)\u001b[0m\n\u001b[1;32m    484\u001b[0m         kw[prop_name] \u001b[38;5;241m=\u001b[39m val\n\u001b[1;32m    486\u001b[0m \u001b[38;5;28;01mif\u001b[39;00m \u001b[38;5;28mlen\u001b[39m(xy) \u001b[38;5;241m==\u001b[39m \u001b[38;5;241m2\u001b[39m:\n\u001b[0;32m--> 487\u001b[0m     x \u001b[38;5;241m=\u001b[39m \u001b[43m_check_1d\u001b[49m\u001b[43m(\u001b[49m\u001b[43mxy\u001b[49m\u001b[43m[\u001b[49m\u001b[38;5;241;43m0\u001b[39;49m\u001b[43m]\u001b[49m\u001b[43m)\u001b[49m\n\u001b[1;32m    488\u001b[0m     y \u001b[38;5;241m=\u001b[39m _check_1d(xy[\u001b[38;5;241m1\u001b[39m])\n\u001b[1;32m    489\u001b[0m \u001b[38;5;28;01melse\u001b[39;00m:\n",
      "File \u001b[0;32m~/opt/anaconda3/envs/booktest/lib/python3.11/site-packages/matplotlib/cbook/__init__.py:1327\u001b[0m, in \u001b[0;36m_check_1d\u001b[0;34m(x)\u001b[0m\n\u001b[1;32m   1321\u001b[0m \u001b[38;5;28;01mwith\u001b[39;00m warnings\u001b[38;5;241m.\u001b[39mcatch_warnings(record\u001b[38;5;241m=\u001b[39m\u001b[38;5;28;01mTrue\u001b[39;00m) \u001b[38;5;28;01mas\u001b[39;00m w:\n\u001b[1;32m   1322\u001b[0m     warnings\u001b[38;5;241m.\u001b[39mfilterwarnings(\n\u001b[1;32m   1323\u001b[0m         \u001b[38;5;124m\"\u001b[39m\u001b[38;5;124malways\u001b[39m\u001b[38;5;124m\"\u001b[39m,\n\u001b[1;32m   1324\u001b[0m         category\u001b[38;5;241m=\u001b[39m\u001b[38;5;167;01mWarning\u001b[39;00m,\n\u001b[1;32m   1325\u001b[0m         message\u001b[38;5;241m=\u001b[39m\u001b[38;5;124m'\u001b[39m\u001b[38;5;124mSupport for multi-dimensional indexing\u001b[39m\u001b[38;5;124m'\u001b[39m)\n\u001b[0;32m-> 1327\u001b[0m     ndim \u001b[38;5;241m=\u001b[39m \u001b[43mx\u001b[49m\u001b[43m[\u001b[49m\u001b[43m:\u001b[49m\u001b[43m,\u001b[49m\u001b[43m \u001b[49m\u001b[38;5;28;43;01mNone\u001b[39;49;00m\u001b[43m]\u001b[49m\u001b[38;5;241m.\u001b[39mndim\n\u001b[1;32m   1328\u001b[0m     \u001b[38;5;66;03m# we have definitely hit a pandas index or series object\u001b[39;00m\n\u001b[1;32m   1329\u001b[0m     \u001b[38;5;66;03m# cast to a numpy array.\u001b[39;00m\n\u001b[1;32m   1330\u001b[0m     \u001b[38;5;28;01mif\u001b[39;00m \u001b[38;5;28mlen\u001b[39m(w) \u001b[38;5;241m>\u001b[39m \u001b[38;5;241m0\u001b[39m:\n",
      "File \u001b[0;32m~/opt/anaconda3/envs/booktest/lib/python3.11/site-packages/pandas/core/series.py:1033\u001b[0m, in \u001b[0;36mSeries.__getitem__\u001b[0;34m(self, key)\u001b[0m\n\u001b[1;32m   1030\u001b[0m     key \u001b[38;5;241m=\u001b[39m np\u001b[38;5;241m.\u001b[39masarray(key, dtype\u001b[38;5;241m=\u001b[39m\u001b[38;5;28mbool\u001b[39m)\n\u001b[1;32m   1031\u001b[0m     \u001b[38;5;28;01mreturn\u001b[39;00m \u001b[38;5;28mself\u001b[39m\u001b[38;5;241m.\u001b[39m_get_values(key)\n\u001b[0;32m-> 1033\u001b[0m \u001b[38;5;28;01mreturn\u001b[39;00m \u001b[38;5;28;43mself\u001b[39;49m\u001b[38;5;241;43m.\u001b[39;49m\u001b[43m_get_with\u001b[49m\u001b[43m(\u001b[49m\u001b[43mkey\u001b[49m\u001b[43m)\u001b[49m\n",
      "File \u001b[0;32m~/opt/anaconda3/envs/booktest/lib/python3.11/site-packages/pandas/core/series.py:1048\u001b[0m, in \u001b[0;36mSeries._get_with\u001b[0;34m(self, key)\u001b[0m\n\u001b[1;32m   1043\u001b[0m     \u001b[38;5;28;01mraise\u001b[39;00m \u001b[38;5;167;01mTypeError\u001b[39;00m(\n\u001b[1;32m   1044\u001b[0m         \u001b[38;5;124m\"\u001b[39m\u001b[38;5;124mIndexing a Series with DataFrame is not \u001b[39m\u001b[38;5;124m\"\u001b[39m\n\u001b[1;32m   1045\u001b[0m         \u001b[38;5;124m\"\u001b[39m\u001b[38;5;124msupported, use the appropriate DataFrame column\u001b[39m\u001b[38;5;124m\"\u001b[39m\n\u001b[1;32m   1046\u001b[0m     )\n\u001b[1;32m   1047\u001b[0m \u001b[38;5;28;01melif\u001b[39;00m \u001b[38;5;28misinstance\u001b[39m(key, \u001b[38;5;28mtuple\u001b[39m):\n\u001b[0;32m-> 1048\u001b[0m     \u001b[38;5;28;01mreturn\u001b[39;00m \u001b[38;5;28;43mself\u001b[39;49m\u001b[38;5;241;43m.\u001b[39;49m\u001b[43m_get_values_tuple\u001b[49m\u001b[43m(\u001b[49m\u001b[43mkey\u001b[49m\u001b[43m)\u001b[49m\n\u001b[1;32m   1050\u001b[0m \u001b[38;5;28;01melif\u001b[39;00m \u001b[38;5;129;01mnot\u001b[39;00m is_list_like(key):\n\u001b[1;32m   1051\u001b[0m     \u001b[38;5;66;03m# e.g. scalars that aren't recognized by lib.is_scalar, GH#32684\u001b[39;00m\n\u001b[1;32m   1052\u001b[0m     \u001b[38;5;28;01mreturn\u001b[39;00m \u001b[38;5;28mself\u001b[39m\u001b[38;5;241m.\u001b[39mloc[key]\n",
      "File \u001b[0;32m~/opt/anaconda3/envs/booktest/lib/python3.11/site-packages/pandas/core/series.py:1082\u001b[0m, in \u001b[0;36mSeries._get_values_tuple\u001b[0;34m(self, key)\u001b[0m\n\u001b[1;32m   1077\u001b[0m \u001b[38;5;28;01mif\u001b[39;00m com\u001b[38;5;241m.\u001b[39many_none(\u001b[38;5;241m*\u001b[39mkey):\n\u001b[1;32m   1078\u001b[0m     \u001b[38;5;66;03m# mpl compat if we look up e.g. ser[:, np.newaxis];\u001b[39;00m\n\u001b[1;32m   1079\u001b[0m     \u001b[38;5;66;03m#  see tests.series.timeseries.test_mpl_compat_hack\u001b[39;00m\n\u001b[1;32m   1080\u001b[0m     \u001b[38;5;66;03m# the asarray is needed to avoid returning a 2D DatetimeArray\u001b[39;00m\n\u001b[1;32m   1081\u001b[0m     result \u001b[38;5;241m=\u001b[39m np\u001b[38;5;241m.\u001b[39masarray(\u001b[38;5;28mself\u001b[39m\u001b[38;5;241m.\u001b[39m_values[key])\n\u001b[0;32m-> 1082\u001b[0m     \u001b[43mdisallow_ndim_indexing\u001b[49m\u001b[43m(\u001b[49m\u001b[43mresult\u001b[49m\u001b[43m)\u001b[49m\n\u001b[1;32m   1083\u001b[0m     \u001b[38;5;28;01mreturn\u001b[39;00m result\n\u001b[1;32m   1085\u001b[0m \u001b[38;5;28;01mif\u001b[39;00m \u001b[38;5;129;01mnot\u001b[39;00m \u001b[38;5;28misinstance\u001b[39m(\u001b[38;5;28mself\u001b[39m\u001b[38;5;241m.\u001b[39mindex, MultiIndex):\n",
      "File \u001b[0;32m~/opt/anaconda3/envs/booktest/lib/python3.11/site-packages/pandas/core/indexers/utils.py:343\u001b[0m, in \u001b[0;36mdisallow_ndim_indexing\u001b[0;34m(result)\u001b[0m\n\u001b[1;32m    335\u001b[0m \u001b[38;5;250m\u001b[39m\u001b[38;5;124;03m\"\"\"\u001b[39;00m\n\u001b[1;32m    336\u001b[0m \u001b[38;5;124;03mHelper function to disallow multi-dimensional indexing on 1D Series/Index.\u001b[39;00m\n\u001b[1;32m    337\u001b[0m \n\u001b[0;32m   (...)\u001b[0m\n\u001b[1;32m    340\u001b[0m \u001b[38;5;124;03min GH#30588.\u001b[39;00m\n\u001b[1;32m    341\u001b[0m \u001b[38;5;124;03m\"\"\"\u001b[39;00m\n\u001b[1;32m    342\u001b[0m \u001b[38;5;28;01mif\u001b[39;00m np\u001b[38;5;241m.\u001b[39mndim(result) \u001b[38;5;241m>\u001b[39m \u001b[38;5;241m1\u001b[39m:\n\u001b[0;32m--> 343\u001b[0m     \u001b[38;5;28;01mraise\u001b[39;00m \u001b[38;5;167;01mValueError\u001b[39;00m(\n\u001b[1;32m    344\u001b[0m         \u001b[38;5;124m\"\u001b[39m\u001b[38;5;124mMulti-dimensional indexing (e.g. `obj[:, None]`) is no longer \u001b[39m\u001b[38;5;124m\"\u001b[39m\n\u001b[1;32m    345\u001b[0m         \u001b[38;5;124m\"\u001b[39m\u001b[38;5;124msupported. Convert to a numpy array before indexing instead.\u001b[39m\u001b[38;5;124m\"\u001b[39m\n\u001b[1;32m    346\u001b[0m     )\n",
      "\u001b[0;31mValueError\u001b[0m: Multi-dimensional indexing (e.g. `obj[:, None]`) is no longer supported. Convert to a numpy array before indexing instead."
     ]
    },
    {
     "data": {
      "image/png": "[encoded data removed]",
      "text/plain": [
       "<Figure size 640x480 with 1 Axes>"
      ]
     },
     "metadata": {},
     "output_type": "display_data"
    }
   ],
   "source": [
    "# print solution\n",
    "print(to.interpolated_thresholder_)\n",
    "\n",
    "# plot solution\n",
    "plot_threshold_optimizer(to)"
   ]
  },
  {
   "cell_type": "markdown",
   "metadata": {},
   "source": [
    "For African-American defendants the decision threshold is randomized between approximately 0.58 ($p=0.66$) and 0.53 ($p=0.33$). For Caucasian defendants the `ThresholdOptimizer` randomizes between a decision threshold of 0.48 ($p=0.991$) and 0.45 ($p=0.008$)."
   ]
  },
  {
   "cell_type": "markdown",
   "metadata": {},
   "source": [
    "## Adversarial Learning using `AdversarialFairnessClassifier`\n",
    "\n",
    "Another technique to enforce fairness constraints is adversarial learning. The class `AdversarialFairnessClassifier` is based on the algorithm introduced by [Zhang et al. (2018)]( https://dl.acm.org/doi/pdf/10.1145/3278721.3278779).\n",
    "\n",
    "```{admonition} Fairness-aware Adversarial Learning\n",
    "`AdversarialFairnessClassifier` leverages an adversarial learning framework to enforce a fairness constraint. The framework consists of two neural networks: a predictor model, which is designed to accurately predict the target variable, and an adversarial model, which is designed to predict the violation of a fairness constraint. The loss of the predictor model is penalized if the adversarial model performs well.\n",
    " \n",
    "The authors introduce two variations of the framework, that optimize for either demographic parity or equalized odds. When the goal is to achieve demographic parity, the adversary is designed to predict sensitive feature  based on the predicted probabilities of the predictor model. When the goal is to achieve equalized odds, the adversary must predict the sensitive feature,taking as input both the predicted probabilities and the ground-truth variable.\n",
    "```\n",
    "\n",
    "The `AdvesarialFairnessClassifier` has various parameters, including:\n",
    "* `backend`: the deep learning library of choice, either pytorch or tensorflow.\n",
    "* `predictor_model`: the definition of the predictor model, either a predefined neural network model object or a list in which each value indicates the number of nodes or an activation function\n",
    "* `adversarial_model`: the definition of the adversarial model, defined in the same way as the predictor_model\n",
    "* `constraints`: the fairness constraint of choice, either `'equalized_odds'` or `'demographic_parity'`\n",
    "* `batch_size`: the batch size is the number of samples that will be passed through to the network at each training step\n",
    "\n",
    "The class has several more parameters that control training. The methods of the `AdvesarialFairnessClassifier` are similar to the familiar scikit-learn API - this time no sensitive features are required at prediction time!\n",
    "\n",
    "Let's try a simple adversarial network on the COMPAS dataset. We use a simple predictor model with one hidden layer of 50 nodes and a leaky ReLu activation function. The adversary model has 3 nodes and also uses the leaky ReLu activation function."
   ]
  },
  {
   "cell_type": "code",
   "execution_count": null,
   "metadata": {},
   "outputs": [],
   "source": [
    "# train adversarial fairness classifier\n",
    "afc = AdversarialFairnessClassifier(\n",
    "    backend=\"torch\",\n",
    "    predictor_model=[50, \"leaky_relu\"],\n",
    "    adversary_model=[3, \"leaky_relu\"],\n",
    "    constraints='equalized_odds',\n",
    "    batch_size=8,\n",
    "    random_state=42\n",
    ")\n",
    "afc.fit(X_train, y_train, sensitive_features=sensitive_features_train)\n",
    "\n",
    "# score\n",
    "score(\n",
    "    y_train,\n",
    "    afc.predict(X_train),\n",
    "    y_val,\n",
    "    afc.predict(X_val),\n",
    "    sensitive_features_train,\n",
    "    sensitive_features_val,\n",
    ")"
   ]
  },
  {
   "cell_type": "markdown",
   "metadata": {},
   "source": [
    "The adversarial classifier performs better in terms of equalized odds compared to the unconstrained logistic regression classifier. However, the drop in equalized odds is not comparable to decision threshold selection and remains very high - with similar accuracy to the decision thresholds.\n",
    "\n",
    "However, we did not perform any hyperparameter tuning - there might be another configuration that performs better on this data set. Deep learning models are very flexible. For example, we could try more (or less!) complex predictor and adversary models and adjust other hyperparameters such as the learning rate and batch size."
   ]
  },
  {
   "cell_type": "markdown",
   "metadata": {},
   "source": [
    "## Concluding Remarks\n",
    "In this tutorial we have showcased two ways in which we can use fairness-aware machine learning algorithms to post-process a machine learning model. In particular, we considered:\n",
    "* post-processing predictions through manually identifying a group-specific decision threshold\n",
    "* post-processing predictions through automatically identifying the optimal randomized group-specific decision thresholds using `ThresholdOptimizer`\n",
    "\n",
    "### Discussion Points\n",
    "\n",
    "#### Connection to fairness metrics\n",
    "* Fairness-aware pre-processing algorithms typically optimize for demographic parity, not for equalized odds or equal calibration. Can you explain why?\n",
    "* How does post-processing for equalized odds affects other notions of fairness, such as equal calibration and demographic parity? As an exercise, compute fairness metrics that represent alternative notions of (group) fairness. Can you explain the results?\n",
    "\n",
    "#### The justification of fair-ml\n",
    "* Our manual choice of the decision threshold uses a different decision threshold for African-Americans than for Caucasians. Under which circumstances would you deem such a policy fair, if any? Why?\n",
    "* The post-processing algorithm implemented in `ThresholdOptimizer` uses randomization in order to achieve equalized odds. Consequently, individuals with the exact same characteristics may receive a different prediction. Under which circumstances would you deem such a policy fair, if any? Why?\n",
    "\n",
    "#### Beyond fair-ml\n",
    "* In this tutorial, we have focussed on technical approaches to optimize for equalized odds. Can you think of other actions in the machine learning development process that could be used to enhance the predictive performance across groups or mitigate historical bias, e.g., during problem formulation and data collection?\n",
    "* In the United States, pretrial risk assessment tools are not used for automated decision-making. Instead, they are used as decision support for judges. Does this influence the way in which you would evaluate the fairness of a model in practice? Why (not)?"
   ]
  }
 ],
 "metadata": {
  "kernelspec": {
   "display_name": "Python 3 (ipykernel)",
   "language": "python",
   "name": "python3"
  },
  "language_info": {
   "codemirror_mode": {
    "name": "ipython",
    "version": 3
   },
   "file_extension": ".py",
   "mimetype": "text/x-python",
   "name": "python",
   "nbconvert_exporter": "python",
   "pygments_lexer": "ipython3",
   "version": "3.11.7"
  }
 },
 "nbformat": 4,
 "nbformat_minor": 4
}
